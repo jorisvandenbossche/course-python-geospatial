{
 "cells": [
  {
   "cell_type": "markdown",
   "metadata": {},
   "source": [
    "<p><font size=\"6\"><b>Jupyter notebook INTRODUCTION </b></font></p>\n",
    "\n",
    "\n",
    "> *DS Python for GIS and Geoscience*  \n",
    "> *September, 2024*\n",
    ">\n",
    "> *© 2024, Joris Van den Bossche and Stijn Van Hoey  (<mailto:jorisvandenbossche@gmail.com>, <mailto:stijnvanhoey@gmail.com>). Licensed under [CC BY 4.0 Creative Commons](http://creativecommons.org/licenses/by/4.0/)*\n",
    "\n",
    "---"
   ]
  },
  {
   "cell_type": "markdown",
   "metadata": {},
   "source": [
    "<big><center>To run a cell: push the start triangle in the menu or type **SHIFT + ENTER/RETURN** <br>\n",
    "![](../img/notebook/shiftenter.jpg)\n",
    "</big></center>"
   ]
  },
  {
   "cell_type": "markdown",
   "metadata": {},
   "source": [
    "# Notebook cell types"
   ]
  },
  {
   "cell_type": "markdown",
   "metadata": {},
   "source": [
    "We will work in **Jupyter notebooks** during this course. A notebook is a collection of `cells`, that can contain different content:"
   ]
  },
  {
   "cell_type": "markdown",
   "metadata": {},
   "source": [
    "## Code"
   ]
  },
  {
   "cell_type": "code",
   "execution_count": 1,
   "metadata": {},
   "outputs": [
    {
     "name": "stdout",
     "output_type": "stream",
     "text": [
      "Hello DS\n"
     ]
    }
   ],
   "source": [
    "# Code cell, then we are using python\n",
    "print('Hello DS')"
   ]
  },
  {
   "cell_type": "code",
   "execution_count": 2,
   "metadata": {},
   "outputs": [
    {
     "name": "stdout",
     "output_type": "stream",
     "text": [
      "15\n"
     ]
    }
   ],
   "source": [
    "DS = 10\n",
    "print(DS + 5) # Yes, we advise to use Python 3 (!)"
   ]
  },
  {
   "cell_type": "markdown",
   "metadata": {},
   "source": [
    "Writing code is what you will do most during this course!"
   ]
  },
  {
   "cell_type": "markdown",
   "metadata": {},
   "source": [
    "## Markdown"
   ]
  },
  {
   "cell_type": "markdown",
   "metadata": {},
   "source": [
    "Text cells, using Markdown syntax. With the syntax, you can make text **bold** or *italic*, amongst many other things..."
   ]
  },
  {
   "cell_type": "markdown",
   "metadata": {},
   "source": [
    "* list\n",
    "* with\n",
    "* items\n",
    "\n",
    "[Link to interesting resources](https://www.youtube.com/watch?v=z9Uz1icjwrM) or images: ![images](https://listame.files.wordpress.com/2012/02/bender-1.jpg)\n",
    "\n",
    "> Blockquotes if you like them\n",
    "> This line is part of the same blockquote."
   ]
  },
  {
   "cell_type": "markdown",
   "metadata": {},
   "source": [
    "Mathematical formulas can also be incorporated (LaTeX it is...)\n",
    "$$\\frac{dBZV}{dt}=BZV_{in} - k_1 .BZV$$\n",
    "$$\\frac{dOZ}{dt}=k_2 .(OZ_{sat}-OZ) - k_1 .BZV$$"
   ]
  },
  {
   "cell_type": "markdown",
   "metadata": {},
   "source": [
    "Or tables:\n",
    "\n",
    "course | points\n",
    " --- | --- \n",
    " Math | 8\n",
    " Chemistry | 4\n",
    "\n",
    "or tables with Latex..\n",
    "\n",
    " Symbool | verklaring\n",
    " --- | --- \n",
    " $BZV_{(t=0)}$      | initiële biochemische zuurstofvraag (7.33 mg.l-1)\n",
    " $OZ_{(t=0)}$\t    | initiële opgeloste zuurstof (8.5 mg.l-1)\n",
    " $BZV_{in}$\t\t  | input BZV(1 mg.l-1.min-1)\n",
    " $OZ_{sat}$\t\t  | saturatieconcentratie opgeloste zuurstof (11 mg.l-1)\n",
    " $k_1$\t\t      | bacteriële degradatiesnelheid (0.3 min-1)\n",
    " $k_2$\t\t      | reäeratieconstante (0.4 min-1)"
   ]
  },
  {
   "cell_type": "markdown",
   "metadata": {},
   "source": [
    "Code can also be incorporated, but than just to illustrate:"
   ]
  },
  {
   "cell_type": "markdown",
   "metadata": {},
   "source": [
    "```python\n",
    "BOT = 12\n",
    "print(BOT)\n",
    "```"
   ]
  },
  {
   "cell_type": "markdown",
   "metadata": {},
   "source": [
    "See also: https://github.com/adam-p/markdown-here/wiki/Markdown-Cheatsheet"
   ]
  },
  {
   "cell_type": "markdown",
   "metadata": {},
   "source": [
    "## HTML"
   ]
  },
  {
   "cell_type": "markdown",
   "metadata": {},
   "source": [
    "You can also use HTML commands, just check this cell:\n",
    "<h3> html-adapted titel with &#60;h3&#62; </h3> <p></p>\n",
    "<b> Bold text &#60;b&#62; </b> of <i>or italic &#60;i&#62; </i>"
   ]
  },
  {
   "cell_type": "markdown",
   "metadata": {},
   "source": [
    "## Headings of different sizes: section\n",
    "### subsection\n",
    "#### subsubsection"
   ]
  },
  {
   "cell_type": "markdown",
   "metadata": {},
   "source": [
    "## Raw Text"
   ]
  },
  {
   "cell_type": "raw",
   "metadata": {},
   "source": [
    "Cfr. any text editor"
   ]
  },
  {
   "cell_type": "markdown",
   "metadata": {},
   "source": [
    "# Notebook handling ESSENTIALS"
   ]
  },
  {
   "cell_type": "markdown",
   "metadata": {},
   "source": [
    "## Execution: SHIFT + ENTER\n",
    "\n",
    "**REMEMBER**: To run a cell: <strike>push the start triangle in the menu or</strike> type **SHIFT + ENTER**\n",
    "    \n",
    "![](../img/notebook/shiftenter.jpg)"
   ]
  },
  {
   "cell_type": "markdown",
   "metadata": {},
   "source": [
    "## Completion: TAB\n",
    "![](../../img/notebook/tabbutton.jpg)"
   ]
  },
  {
   "cell_type": "markdown",
   "metadata": {},
   "source": [
    "* The **TAB** button is essential: It provides you all **possible actions** you can do after loading in a library *AND* it is used for **automatic autocompletion**:"
   ]
  },
  {
   "cell_type": "code",
   "execution_count": 3,
   "metadata": {},
   "outputs": [
    {
     "data": {
      "text/plain": [
       "<function posix.mkdir(path, mode=511, *, dir_fd=None)>"
      ]
     },
     "execution_count": 3,
     "metadata": {},
     "output_type": "execute_result"
    }
   ],
   "source": [
    "import os\n",
    "os.mkdir"
   ]
  },
  {
   "cell_type": "code",
   "execution_count": 4,
   "metadata": {},
   "outputs": [],
   "source": [
    "my_very_long_variable_name = 3"
   ]
  },
  {
   "cell_type": "raw",
   "metadata": {},
   "source": [
    "my_ + TAB"
   ]
  },
  {
   "cell_type": "markdown",
   "metadata": {},
   "source": [
    "## Help: SHIFT + TAB\n",
    "![](../../img/notebook/shift-tab.png)"
   ]
  },
  {
   "cell_type": "markdown",
   "metadata": {},
   "source": [
    "* The  **SHIFT-TAB** combination is ultra essential to get information/help about the current operation"
   ]
  },
  {
   "cell_type": "code",
   "execution_count": 5,
   "metadata": {},
   "outputs": [
    {
     "data": {
      "text/plain": [
       "3"
      ]
     },
     "execution_count": 5,
     "metadata": {},
     "output_type": "execute_result"
    }
   ],
   "source": [
    "round(3.2)"
   ]
  },
  {
   "cell_type": "code",
   "execution_count": 6,
   "metadata": {},
   "outputs": [
    {
     "data": {
      "text/plain": [
       "<function posix.mkdir(path, mode=511, *, dir_fd=None)>"
      ]
     },
     "execution_count": 6,
     "metadata": {},
     "output_type": "execute_result"
    }
   ],
   "source": [
    "os.mkdir"
   ]
  },
  {
   "cell_type": "code",
   "execution_count": 7,
   "metadata": {},
   "outputs": [
    {
     "data": {
      "text/plain": [
       "\u001b[0;31mSignature:\u001b[0m \u001b[0mos\u001b[0m\u001b[0;34m.\u001b[0m\u001b[0mmkdir\u001b[0m\u001b[0;34m(\u001b[0m\u001b[0mpath\u001b[0m\u001b[0;34m,\u001b[0m \u001b[0mmode\u001b[0m\u001b[0;34m=\u001b[0m\u001b[0;36m511\u001b[0m\u001b[0;34m,\u001b[0m \u001b[0;34m*\u001b[0m\u001b[0;34m,\u001b[0m \u001b[0mdir_fd\u001b[0m\u001b[0;34m=\u001b[0m\u001b[0;32mNone\u001b[0m\u001b[0;34m)\u001b[0m\u001b[0;34m\u001b[0m\u001b[0;34m\u001b[0m\u001b[0m\n",
       "\u001b[0;31mDocstring:\u001b[0m\n",
       "Create a directory.\n",
       "\n",
       "If dir_fd is not None, it should be a file descriptor open to a directory,\n",
       "  and path should be relative; path will then be relative to that directory.\n",
       "dir_fd may not be implemented on your platform.\n",
       "  If it is unavailable, using it will raise a NotImplementedError.\n",
       "\n",
       "The mode argument is ignored on Windows. Where it is used, the current umask\n",
       "value is first masked out.\n",
       "\u001b[0;31mType:\u001b[0m      builtin_function_or_method"
      ]
     },
     "metadata": {},
     "output_type": "display_data"
    }
   ],
   "source": [
    "# An alternative is to put a question mark behind the command\n",
    "os.mkdir?"
   ]
  },
  {
   "cell_type": "markdown",
   "metadata": {},
   "source": [
    "<div class=\"alert alert-success\">\n",
    "    <b>EXERCISE</b>: What happens if you put two question marks behind the command?\n",
    "</div>"
   ]
  },
  {
   "cell_type": "code",
   "execution_count": 8,
   "metadata": {},
   "outputs": [
    {
     "data": {
      "text/plain": [
       "\u001b[0;31mSignature:\u001b[0m\n",
       "\u001b[0mglob\u001b[0m\u001b[0;34m.\u001b[0m\u001b[0mglob\u001b[0m\u001b[0;34m(\u001b[0m\u001b[0;34m\u001b[0m\n",
       "\u001b[0;34m\u001b[0m    \u001b[0mpathname\u001b[0m\u001b[0;34m,\u001b[0m\u001b[0;34m\u001b[0m\n",
       "\u001b[0;34m\u001b[0m    \u001b[0;34m*\u001b[0m\u001b[0;34m,\u001b[0m\u001b[0;34m\u001b[0m\n",
       "\u001b[0;34m\u001b[0m    \u001b[0mroot_dir\u001b[0m\u001b[0;34m=\u001b[0m\u001b[0;32mNone\u001b[0m\u001b[0;34m,\u001b[0m\u001b[0;34m\u001b[0m\n",
       "\u001b[0;34m\u001b[0m    \u001b[0mdir_fd\u001b[0m\u001b[0;34m=\u001b[0m\u001b[0;32mNone\u001b[0m\u001b[0;34m,\u001b[0m\u001b[0;34m\u001b[0m\n",
       "\u001b[0;34m\u001b[0m    \u001b[0mrecursive\u001b[0m\u001b[0;34m=\u001b[0m\u001b[0;32mFalse\u001b[0m\u001b[0;34m,\u001b[0m\u001b[0;34m\u001b[0m\n",
       "\u001b[0;34m\u001b[0m    \u001b[0minclude_hidden\u001b[0m\u001b[0;34m=\u001b[0m\u001b[0;32mFalse\u001b[0m\u001b[0;34m,\u001b[0m\u001b[0;34m\u001b[0m\n",
       "\u001b[0;34m\u001b[0m\u001b[0;34m)\u001b[0m\u001b[0;34m\u001b[0m\u001b[0;34m\u001b[0m\u001b[0m\n",
       "\u001b[0;31mSource:\u001b[0m   \n",
       "\u001b[0;32mdef\u001b[0m \u001b[0mglob\u001b[0m\u001b[0;34m(\u001b[0m\u001b[0mpathname\u001b[0m\u001b[0;34m,\u001b[0m \u001b[0;34m*\u001b[0m\u001b[0;34m,\u001b[0m \u001b[0mroot_dir\u001b[0m\u001b[0;34m=\u001b[0m\u001b[0;32mNone\u001b[0m\u001b[0;34m,\u001b[0m \u001b[0mdir_fd\u001b[0m\u001b[0;34m=\u001b[0m\u001b[0;32mNone\u001b[0m\u001b[0;34m,\u001b[0m \u001b[0mrecursive\u001b[0m\u001b[0;34m=\u001b[0m\u001b[0;32mFalse\u001b[0m\u001b[0;34m,\u001b[0m\u001b[0;34m\u001b[0m\n",
       "\u001b[0;34m\u001b[0m        \u001b[0minclude_hidden\u001b[0m\u001b[0;34m=\u001b[0m\u001b[0;32mFalse\u001b[0m\u001b[0;34m)\u001b[0m\u001b[0;34m:\u001b[0m\u001b[0;34m\u001b[0m\n",
       "\u001b[0;34m\u001b[0m    \u001b[0;34m\"\"\"Return a list of paths matching a pathname pattern.\u001b[0m\n",
       "\u001b[0;34m\u001b[0m\n",
       "\u001b[0;34m    The pattern may contain simple shell-style wildcards a la\u001b[0m\n",
       "\u001b[0;34m    fnmatch. Unlike fnmatch, filenames starting with a\u001b[0m\n",
       "\u001b[0;34m    dot are special cases that are not matched by '*' and '?'\u001b[0m\n",
       "\u001b[0;34m    patterns by default.\u001b[0m\n",
       "\u001b[0;34m\u001b[0m\n",
       "\u001b[0;34m    If `include_hidden` is true, the patterns '*', '?', '**'  will match hidden\u001b[0m\n",
       "\u001b[0;34m    directories.\u001b[0m\n",
       "\u001b[0;34m\u001b[0m\n",
       "\u001b[0;34m    If `recursive` is true, the pattern '**' will match any files and\u001b[0m\n",
       "\u001b[0;34m    zero or more directories and subdirectories.\u001b[0m\n",
       "\u001b[0;34m    \"\"\"\u001b[0m\u001b[0;34m\u001b[0m\n",
       "\u001b[0;34m\u001b[0m    \u001b[0;32mreturn\u001b[0m \u001b[0mlist\u001b[0m\u001b[0;34m(\u001b[0m\u001b[0miglob\u001b[0m\u001b[0;34m(\u001b[0m\u001b[0mpathname\u001b[0m\u001b[0;34m,\u001b[0m \u001b[0mroot_dir\u001b[0m\u001b[0;34m=\u001b[0m\u001b[0mroot_dir\u001b[0m\u001b[0;34m,\u001b[0m \u001b[0mdir_fd\u001b[0m\u001b[0;34m=\u001b[0m\u001b[0mdir_fd\u001b[0m\u001b[0;34m,\u001b[0m \u001b[0mrecursive\u001b[0m\u001b[0;34m=\u001b[0m\u001b[0mrecursive\u001b[0m\u001b[0;34m,\u001b[0m\u001b[0;34m\u001b[0m\n",
       "\u001b[0;34m\u001b[0m                      \u001b[0minclude_hidden\u001b[0m\u001b[0;34m=\u001b[0m\u001b[0minclude_hidden\u001b[0m\u001b[0;34m)\u001b[0m\u001b[0;34m)\u001b[0m\u001b[0;34m\u001b[0m\u001b[0;34m\u001b[0m\u001b[0m\n",
       "\u001b[0;31mFile:\u001b[0m      ~/.pyenv/versions/miniconda3-latest/envs/DS-geospatial/lib/python3.11/glob.py\n",
       "\u001b[0;31mType:\u001b[0m      function"
      ]
     },
     "metadata": {},
     "output_type": "display_data"
    }
   ],
   "source": [
    "import glob\n",
    "glob.glob??"
   ]
  },
  {
   "cell_type": "markdown",
   "metadata": {},
   "source": [
    "## *edit* mode vs *command* mode\n",
    "\n",
    "* *edit* mode means you're editing a cell, i.e. with your cursor inside a cell to type content -->  <font color=\"blue\">blue colored border</font>\n",
    "* *command* mode means you're NOT editing(!), i.e. NOT with your cursor inside a cell to type content --> selected cell has a grey border\n",
    "\n",
    "To start editing, click inside a cell or \n",
    "<img src=\"../img/notebook/enterbutton.png\" alt=\"Key enter\" style=\"width:150px\">\n",
    "\n",
    "To stop editing,\n",
    "<img src=\"../img/notebook/keyescape.png\" alt=\"Key A\" style=\"width:150px\">"
   ]
  },
  {
   "cell_type": "markdown",
   "metadata": {},
   "source": [
    "## new cell A-bove\n",
    "<img src=\"../img/notebook/keya.png\" alt=\"Key A\" style=\"width:150px\">\n",
    "\n",
    "Create a new cell above with the key A... when in *command* mode"
   ]
  },
  {
   "cell_type": "markdown",
   "metadata": {},
   "source": [
    "## new cell B-elow\n",
    "<img src=\"../img/notebook/keyb.png\" alt=\"Key B\" style=\"width:150px\">\n",
    "\n",
    "Create a new cell below with the key B... when in *command* mode"
   ]
  },
  {
   "cell_type": "markdown",
   "metadata": {},
   "source": [
    "## CTRL + SHIFT + C"
   ]
  },
  {
   "cell_type": "markdown",
   "metadata": {},
   "source": [
    "Just do it!"
   ]
  },
  {
   "cell_type": "markdown",
   "metadata": {},
   "source": [
    "## Trouble..."
   ]
  },
  {
   "cell_type": "markdown",
   "metadata": {},
   "source": [
    "<div class=\"alert alert-danger\">\n",
    "\n",
    "**NOTE**: When you're stuck, or things are crashing: \n",
    "\n",
    "* first try **Kernel** > **Interrupt** -> your cell should stop running\n",
    "* if no succes -> **Kernel** > **Restart** -> restart your notebook\n",
    "\n",
    "</div>"
   ]
  },
  {
   "cell_type": "markdown",
   "metadata": {},
   "source": [
    "* **Stackoverflow** is really, really, really nice!\n",
    "\n",
    "  http://stackoverflow.com/questions/tagged/python"
   ]
  },
  {
   "cell_type": "markdown",
   "metadata": {},
   "source": [
    "* Google search is with you!"
   ]
  },
  {
   "cell_type": "markdown",
   "metadata": {},
   "source": [
    "<big><center>**REMEMBER**: To run a cell: <strike>push the start triangle in the menu or</strike> type **SHIFT + ENTER**\n",
    "    \n",
    "![](../img/notebook/shiftenter.jpg)"
   ]
  },
  {
   "cell_type": "markdown",
   "metadata": {},
   "source": [
    "# some MAGIC..."
   ]
  },
  {
   "cell_type": "markdown",
   "metadata": {},
   "source": [
    "## `%psearch`"
   ]
  },
  {
   "cell_type": "code",
   "execution_count": 9,
   "metadata": {},
   "outputs": [
    {
     "data": {
      "text/plain": [
       "os.chdir\n",
       "os.curdir\n",
       "os.fchdir\n",
       "os.listdir\n",
       "os.mkdir\n",
       "os.pardir\n",
       "os.rmdir\n",
       "os.scandir"
      ]
     },
     "metadata": {},
     "output_type": "display_data"
    }
   ],
   "source": [
    "%psearch os.*dir"
   ]
  },
  {
   "cell_type": "markdown",
   "metadata": {},
   "source": [
    "## `%%timeit`"
   ]
  },
  {
   "cell_type": "code",
   "execution_count": 10,
   "metadata": {},
   "outputs": [
    {
     "name": "stdout",
     "output_type": "stream",
     "text": [
      "39.5 µs ± 252 ns per loop (mean ± std. dev. of 7 runs, 10,000 loops each)\n"
     ]
    }
   ],
   "source": [
    "%%timeit\n",
    "\n",
    "mylist = range(1000)\n",
    "for i in mylist:\n",
    "    i = i**2"
   ]
  },
  {
   "cell_type": "code",
   "execution_count": 11,
   "metadata": {},
   "outputs": [],
   "source": [
    "import numpy as np"
   ]
  },
  {
   "cell_type": "code",
   "execution_count": 12,
   "metadata": {},
   "outputs": [
    {
     "name": "stdout",
     "output_type": "stream",
     "text": [
      "1.51 µs ± 87.3 ns per loop (mean ± std. dev. of 7 runs, 1,000,000 loops each)\n"
     ]
    }
   ],
   "source": [
    "%%timeit\n",
    "\n",
    "np.arange(1000)**2"
   ]
  },
  {
   "cell_type": "markdown",
   "metadata": {},
   "source": [
    "## `%whos`"
   ]
  },
  {
   "cell_type": "code",
   "execution_count": 13,
   "metadata": {},
   "outputs": [
    {
     "name": "stdout",
     "output_type": "stream",
     "text": [
      "Variable                     Type      Data/Info\n",
      "------------------------------------------------\n",
      "DS                           int       10\n",
      "glob                         module    <module 'glob' from '/hom<...>/lib/python3.11/glob.py'>\n",
      "my_very_long_variable_name   int       3\n",
      "np                           module    <module 'numpy' from '/ho<...>kages/numpy/__init__.py'>\n",
      "os                           module    <module 'os' (frozen)>\n"
     ]
    }
   ],
   "source": [
    "%whos"
   ]
  },
  {
   "cell_type": "markdown",
   "metadata": {},
   "source": [
    "## `%lsmagic`"
   ]
  },
  {
   "cell_type": "code",
   "execution_count": 14,
   "metadata": {},
   "outputs": [
    {
     "data": {
      "application/json": {
       "cell": {
        "!": "OSMagics",
        "HTML": "Other",
        "SVG": "Other",
        "bash": "Other",
        "capture": "ExecutionMagics",
        "code_wrap": "ExecutionMagics",
        "debug": "ExecutionMagics",
        "file": "Other",
        "html": "DisplayMagics",
        "javascript": "DisplayMagics",
        "js": "DisplayMagics",
        "latex": "DisplayMagics",
        "markdown": "DisplayMagics",
        "perl": "Other",
        "prun": "ExecutionMagics",
        "pypy": "Other",
        "python": "Other",
        "python2": "Other",
        "python3": "Other",
        "ruby": "Other",
        "script": "ScriptMagics",
        "sh": "Other",
        "svg": "DisplayMagics",
        "sx": "OSMagics",
        "system": "OSMagics",
        "time": "ExecutionMagics",
        "timeit": "ExecutionMagics",
        "writefile": "OSMagics"
       },
       "line": {
        "alias": "OSMagics",
        "alias_magic": "BasicMagics",
        "autoawait": "AsyncMagics",
        "autocall": "AutoMagics",
        "automagic": "AutoMagics",
        "autosave": "KernelMagics",
        "bookmark": "OSMagics",
        "cat": "Other",
        "cd": "OSMagics",
        "clear": "KernelMagics",
        "code_wrap": "ExecutionMagics",
        "colors": "BasicMagics",
        "conda": "PackagingMagics",
        "config": "ConfigMagics",
        "connect_info": "KernelMagics",
        "cp": "Other",
        "debug": "ExecutionMagics",
        "dhist": "OSMagics",
        "dirs": "OSMagics",
        "doctest_mode": "BasicMagics",
        "ed": "Other",
        "edit": "KernelMagics",
        "env": "OSMagics",
        "gui": "BasicMagics",
        "hist": "Other",
        "history": "HistoryMagics",
        "killbgscripts": "ScriptMagics",
        "ldir": "Other",
        "less": "KernelMagics",
        "lf": "Other",
        "lk": "Other",
        "ll": "Other",
        "load": "CodeMagics",
        "load_ext": "ExtensionMagics",
        "loadpy": "CodeMagics",
        "logoff": "LoggingMagics",
        "logon": "LoggingMagics",
        "logstart": "LoggingMagics",
        "logstate": "LoggingMagics",
        "logstop": "LoggingMagics",
        "ls": "Other",
        "lsmagic": "BasicMagics",
        "lx": "Other",
        "macro": "ExecutionMagics",
        "magic": "BasicMagics",
        "man": "KernelMagics",
        "matplotlib": "PylabMagics",
        "mkdir": "Other",
        "more": "KernelMagics",
        "mv": "Other",
        "notebook": "BasicMagics",
        "page": "BasicMagics",
        "pastebin": "CodeMagics",
        "pdb": "ExecutionMagics",
        "pdef": "NamespaceMagics",
        "pdoc": "NamespaceMagics",
        "pfile": "NamespaceMagics",
        "pinfo": "NamespaceMagics",
        "pinfo2": "NamespaceMagics",
        "pip": "PackagingMagics",
        "popd": "OSMagics",
        "pprint": "BasicMagics",
        "precision": "BasicMagics",
        "prun": "ExecutionMagics",
        "psearch": "NamespaceMagics",
        "psource": "NamespaceMagics",
        "pushd": "OSMagics",
        "pwd": "OSMagics",
        "pycat": "OSMagics",
        "pylab": "PylabMagics",
        "qtconsole": "KernelMagics",
        "quickref": "BasicMagics",
        "recall": "HistoryMagics",
        "rehashx": "OSMagics",
        "reload_ext": "ExtensionMagics",
        "rep": "Other",
        "rerun": "HistoryMagics",
        "reset": "NamespaceMagics",
        "reset_selective": "NamespaceMagics",
        "rm": "Other",
        "rmdir": "Other",
        "run": "ExecutionMagics",
        "save": "CodeMagics",
        "sc": "OSMagics",
        "set_env": "OSMagics",
        "store": "StoreMagics",
        "sx": "OSMagics",
        "system": "OSMagics",
        "tb": "ExecutionMagics",
        "time": "ExecutionMagics",
        "timeit": "ExecutionMagics",
        "unalias": "OSMagics",
        "unload_ext": "ExtensionMagics",
        "who": "NamespaceMagics",
        "who_ls": "NamespaceMagics",
        "whos": "NamespaceMagics",
        "xdel": "NamespaceMagics",
        "xmode": "BasicMagics"
       }
      },
      "text/plain": [
       "Available line magics:\n",
       "%alias  %alias_magic  %autoawait  %autocall  %automagic  %autosave  %bookmark  %cat  %cd  %clear  %code_wrap  %colors  %conda  %config  %connect_info  %cp  %debug  %dhist  %dirs  %doctest_mode  %ed  %edit  %env  %gui  %hist  %history  %killbgscripts  %ldir  %less  %lf  %lk  %ll  %load  %load_ext  %loadpy  %logoff  %logon  %logstart  %logstate  %logstop  %ls  %lsmagic  %lx  %macro  %magic  %man  %matplotlib  %mkdir  %more  %mv  %notebook  %page  %pastebin  %pdb  %pdef  %pdoc  %pfile  %pinfo  %pinfo2  %pip  %popd  %pprint  %precision  %prun  %psearch  %psource  %pushd  %pwd  %pycat  %pylab  %qtconsole  %quickref  %recall  %rehashx  %reload_ext  %rep  %rerun  %reset  %reset_selective  %rm  %rmdir  %run  %save  %sc  %set_env  %store  %sx  %system  %tb  %time  %timeit  %unalias  %unload_ext  %who  %who_ls  %whos  %xdel  %xmode\n",
       "\n",
       "Available cell magics:\n",
       "%%!  %%HTML  %%SVG  %%bash  %%capture  %%code_wrap  %%debug  %%file  %%html  %%javascript  %%js  %%latex  %%markdown  %%perl  %%prun  %%pypy  %%python  %%python2  %%python3  %%ruby  %%script  %%sh  %%svg  %%sx  %%system  %%time  %%timeit  %%writefile\n",
       "\n",
       "Automagic is ON, % prefix IS NOT needed for line magics."
      ]
     },
     "execution_count": 14,
     "metadata": {},
     "output_type": "execute_result"
    }
   ],
   "source": [
    "%lsmagic"
   ]
  },
  {
   "cell_type": "markdown",
   "metadata": {},
   "source": [
    "# Let's get started!"
   ]
  },
  {
   "cell_type": "code",
   "execution_count": 15,
   "metadata": {},
   "outputs": [],
   "source": [
    "from IPython.display import FileLink, FileLinks"
   ]
  },
  {
   "cell_type": "code",
   "execution_count": 16,
   "metadata": {},
   "outputs": [
    {
     "data": {
      "text/html": [
       "./<br>\n",
       "&nbsp;&nbsp;<a href='./case-argo-sea-floats.ipynb' target='_blank'>case-argo-sea-floats.ipynb</a><br>\n",
       "&nbsp;&nbsp;<a href='./test_resample.tiff' target='_blank'>test_resample.tiff</a><br>\n",
       "&nbsp;&nbsp;<a href='./13-raster-processing.ipynb' target='_blank'>13-raster-processing.ipynb</a><br>\n",
       "&nbsp;&nbsp;<a href='./2020-09-17_Sentinel_2_L1C_True_color.tiff_resampled.tiff' target='_blank'>2020-09-17_Sentinel_2_L1C_True_color.tiff_resampled.tiff</a><br>\n",
       "&nbsp;&nbsp;<a href='./visualization-02-geopandas.ipynb' target='_blank'>visualization-02-geopandas.ipynb</a><br>\n",
       "&nbsp;&nbsp;<a href='./01-introduction-tabular-data.ipynb' target='_blank'>01-introduction-tabular-data.ipynb</a><br>\n",
       "&nbsp;&nbsp;<a href='./case-curieuzeneuzen-air-quality.ipynb' target='_blank'>case-curieuzeneuzen-air-quality.ipynb</a><br>\n",
       "&nbsp;&nbsp;<a href='./2020-09-17_Sentinel_2_L1C_B08.tiff_resampled.tiff' target='_blank'>2020-09-17_Sentinel_2_L1C_B08.tiff_resampled.tiff</a><br>\n",
       "&nbsp;&nbsp;<a href='./2020-09-17_Sentinel_2_L1C_B04.tiff_resampled.tiff' target='_blank'>2020-09-17_Sentinel_2_L1C_B04.tiff_resampled.tiff</a><br>\n",
       "&nbsp;&nbsp;<a href='./RGB.byte.tif' target='_blank'>RGB.byte.tif</a><br>\n",
       "&nbsp;&nbsp;<a href='./RGB.byte.tif.3' target='_blank'>RGB.byte.tif.3</a><br>\n",
       "&nbsp;&nbsp;<a href='./case-sea-surface-temperature.ipynb' target='_blank'>case-sea-surface-temperature.ipynb</a><br>\n",
       "&nbsp;&nbsp;<a href='./00-jupyter_introduction.md' target='_blank'>00-jupyter_introduction.md</a><br>\n",
       "&nbsp;&nbsp;<a href='./test.tiff' target='_blank'>test.tiff</a><br>\n",
       "&nbsp;&nbsp;<a href='./91_package_rasterio.ipynb' target='_blank'>91_package_rasterio.ipynb</a><br>\n",
       "&nbsp;&nbsp;<a href='./B0408.tiff' target='_blank'>B0408.tiff</a><br>\n",
       "&nbsp;&nbsp;<a href='./visualization-04-interactive.ipynb' target='_blank'>visualization-04-interactive.ipynb</a><br>\n",
       "&nbsp;&nbsp;<a href='./2020-09-17_Sentinel_2_L1C_B0408.tiff_resampled.tiff' target='_blank'>2020-09-17_Sentinel_2_L1C_B0408.tiff_resampled.tiff</a><br>\n",
       "&nbsp;&nbsp;<a href='./04-spatial-relationships-joins.ipynb' target='_blank'>04-spatial-relationships-joins.ipynb</a><br>\n",
       "&nbsp;&nbsp;<a href='./visualization-03-cartopy.md' target='_blank'>visualization-03-cartopy.md</a><br>\n",
       "&nbsp;&nbsp;<a href='./visualization-02-geopandas.md' target='_blank'>visualization-02-geopandas.md</a><br>\n",
       "&nbsp;&nbsp;<a href='./11-xarray-intro.ipynb' target='_blank'>11-xarray-intro.ipynb</a><br>\n",
       "&nbsp;&nbsp;<a href='./90_package_numpy.ipynb' target='_blank'>90_package_numpy.ipynb</a><br>\n",
       "&nbsp;&nbsp;<a href='./10-introduction-raster.ipynb' target='_blank'>10-introduction-raster.ipynb</a><br>\n",
       "&nbsp;&nbsp;<a href='./averbode_orthophoto.tiff' target='_blank'>averbode_orthophoto.tiff</a><br>\n",
       "&nbsp;&nbsp;<a href='./03-coordinate-reference-systems.ipynb' target='_blank'>03-coordinate-reference-systems.ipynb</a><br>\n",
       "&nbsp;&nbsp;<a href='./RGB.byte.tif.2' target='_blank'>RGB.byte.tif.2</a><br>\n",
       "&nbsp;&nbsp;<a href='./14-combine-data.ipynb' target='_blank'>14-combine-data.ipynb</a><br>\n",
       "&nbsp;&nbsp;<a href='./b4_out.tiff' target='_blank'>b4_out.tiff</a><br>\n",
       "&nbsp;&nbsp;<a href='./RGB.byte.tif.1' target='_blank'>RGB.byte.tif.1</a><br>\n",
       "&nbsp;&nbsp;<a href='./00-jupyter_introduction.ipynb' target='_blank'>00-jupyter_introduction.ipynb</a><br>\n",
       "&nbsp;&nbsp;<a href='./02-introduction-geospatial-data.ipynb' target='_blank'>02-introduction-geospatial-data.ipynb</a><br>\n",
       "&nbsp;&nbsp;<a href='./dem_masked_rio.tiff' target='_blank'>dem_masked_rio.tiff</a><br>\n",
       "&nbsp;&nbsp;<a href='./15-xarray-dask-big-data.ipynb' target='_blank'>15-xarray-dask-big-data.ipynb</a><br>\n",
       "&nbsp;&nbsp;<a href='./12-xarray-advanced.ipynb' target='_blank'>12-xarray-advanced.ipynb</a><br>\n",
       "&nbsp;&nbsp;<a href='./visualization-01-matplotlib.ipynb' target='_blank'>visualization-01-matplotlib.ipynb</a><br>\n",
       "&nbsp;&nbsp;<a href='./dem_masked_gdal.tiff' target='_blank'>dem_masked_gdal.tiff</a><br>\n",
       "&nbsp;&nbsp;<a href='./05-spatial-operations-overlays.ipynb' target='_blank'>05-spatial-operations-overlays.ipynb</a><br>"
      ],
      "text/plain": [
       "./\n",
       "  case-argo-sea-floats.ipynb\n",
       "  test_resample.tiff\n",
       "  13-raster-processing.ipynb\n",
       "  2020-09-17_Sentinel_2_L1C_True_color.tiff_resampled.tiff\n",
       "  visualization-02-geopandas.ipynb\n",
       "  01-introduction-tabular-data.ipynb\n",
       "  case-curieuzeneuzen-air-quality.ipynb\n",
       "  2020-09-17_Sentinel_2_L1C_B08.tiff_resampled.tiff\n",
       "  2020-09-17_Sentinel_2_L1C_B04.tiff_resampled.tiff\n",
       "  RGB.byte.tif\n",
       "  RGB.byte.tif.3\n",
       "  case-sea-surface-temperature.ipynb\n",
       "  00-jupyter_introduction.md\n",
       "  test.tiff\n",
       "  91_package_rasterio.ipynb\n",
       "  B0408.tiff\n",
       "  visualization-04-interactive.ipynb\n",
       "  2020-09-17_Sentinel_2_L1C_B0408.tiff_resampled.tiff\n",
       "  04-spatial-relationships-joins.ipynb\n",
       "  visualization-03-cartopy.md\n",
       "  visualization-02-geopandas.md\n",
       "  11-xarray-intro.ipynb\n",
       "  90_package_numpy.ipynb\n",
       "  10-introduction-raster.ipynb\n",
       "  averbode_orthophoto.tiff\n",
       "  03-coordinate-reference-systems.ipynb\n",
       "  RGB.byte.tif.2\n",
       "  14-combine-data.ipynb\n",
       "  b4_out.tiff\n",
       "  RGB.byte.tif.1\n",
       "  00-jupyter_introduction.ipynb\n",
       "  02-introduction-geospatial-data.ipynb\n",
       "  dem_masked_rio.tiff\n",
       "  15-xarray-dask-big-data.ipynb\n",
       "  12-xarray-advanced.ipynb\n",
       "  visualization-01-matplotlib.ipynb\n",
       "  dem_masked_gdal.tiff\n",
       "  05-spatial-operations-overlays.ipynb"
      ]
     },
     "execution_count": 16,
     "metadata": {},
     "output_type": "execute_result"
    }
   ],
   "source": [
    "FileLinks('.', recursive=False)"
   ]
  },
  {
   "cell_type": "code",
   "execution_count": null,
   "metadata": {},
   "outputs": [],
   "source": []
  }
 ],
 "metadata": {
  "jupytext": {
   "cell_metadata_filter": "-run_control,-deletable,-editable,-jupyter,-slideshow",
   "notebook_metadata_filter": "-jupytext.cell_metadata_filter,-jupytext.notebook_metadata_filter"
  },
  "kernelspec": {
   "display_name": "Python 3 (ipykernel)",
   "language": "python",
   "name": "python3"
  },
  "language_info": {
   "codemirror_mode": {
    "name": "ipython",
    "version": 3
   },
   "file_extension": ".py",
   "mimetype": "text/x-python",
   "name": "python",
   "nbconvert_exporter": "python",
   "pygments_lexer": "ipython3",
   "version": "3.12.8"
  },
  "nav_menu": {},
  "toc": {
   "navigate_menu": true,
   "number_sections": true,
   "sideBar": true,
   "threshold": 6,
   "toc_cell": false,
   "toc_section_display": "block",
   "toc_window_display": true
  },
  "toc_position": {
   "height": "860px",
   "left": "0px",
   "right": "1568px",
   "top": "106px",
   "width": "301px"
  }
 },
 "nbformat": 4,
 "nbformat_minor": 4
}
