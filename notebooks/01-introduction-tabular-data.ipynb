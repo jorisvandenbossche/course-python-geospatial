{
 "cells": [
  {
   "cell_type": "markdown",
   "metadata": {},
   "source": [
    "<p><font size=\"6\"><b> Introduction to working with pandas and tabular data</b></font></p>\n",
    "\n",
    "\n",
    "> *DS Python for GIS and Geoscience*  \n",
    "> *September, 2024*\n",
    ">\n",
    "> *© 2024, Joris Van den Bossche and Stijn Van Hoey  (<mailto:jorisvandenbossche@gmail.com>, <mailto:stijnvanhoey@gmail.com>). Licensed under [CC BY 4.0 Creative Commons](http://creativecommons.org/licenses/by/4.0/)*\n",
    "\n",
    "---"
   ]
  },
  {
   "cell_type": "markdown",
   "metadata": {},
   "source": [
    "## Working with tabular data using Pandas"
   ]
  },
  {
   "cell_type": "markdown",
   "metadata": {},
   "source": [
    "To load the pandas package and start working with it, we first import the package. The community agreed alias for pandas is `pd`,  which we will also use here:"
   ]
  },
  {
   "cell_type": "code",
   "execution_count": 1,
   "metadata": {},
   "outputs": [],
   "source": [
    "import pandas as pd"
   ]
  },
  {
   "cell_type": "markdown",
   "metadata": {},
   "source": [
    "Let's start with importing some actual data. Pandas provides functions for many different formats, but here we will read a simple CSV file with information about the countries of the world:"
   ]
  },
  {
   "cell_type": "code",
   "execution_count": 2,
   "metadata": {},
   "outputs": [],
   "source": [
    "countries = pd.read_csv(\"data/countries.csv\")"
   ]
  },
  {
   "cell_type": "code",
   "execution_count": 3,
   "metadata": {
    "collapsed": false,
    "jupyter": {
     "outputs_hidden": false
    }
   },
   "outputs": [
    {
     "data": {
      "text/html": [
       "<div>\n",
       "<style scoped>\n",
       "    .dataframe tbody tr th:only-of-type {\n",
       "        vertical-align: middle;\n",
       "    }\n",
       "\n",
       "    .dataframe tbody tr th {\n",
       "        vertical-align: top;\n",
       "    }\n",
       "\n",
       "    .dataframe thead th {\n",
       "        text-align: right;\n",
       "    }\n",
       "</style>\n",
       "<table border=\"1\" class=\"dataframe\">\n",
       "  <thead>\n",
       "    <tr style=\"text-align: right;\">\n",
       "      <th></th>\n",
       "      <th>iso_a3</th>\n",
       "      <th>name</th>\n",
       "      <th>pop_est</th>\n",
       "      <th>gdp_md_est</th>\n",
       "      <th>continent</th>\n",
       "    </tr>\n",
       "  </thead>\n",
       "  <tbody>\n",
       "    <tr>\n",
       "      <th>0</th>\n",
       "      <td>FJI</td>\n",
       "      <td>Fiji</td>\n",
       "      <td>920938</td>\n",
       "      <td>8374.0</td>\n",
       "      <td>Oceania</td>\n",
       "    </tr>\n",
       "    <tr>\n",
       "      <th>1</th>\n",
       "      <td>TZA</td>\n",
       "      <td>Tanzania</td>\n",
       "      <td>53950935</td>\n",
       "      <td>150600.0</td>\n",
       "      <td>Africa</td>\n",
       "    </tr>\n",
       "    <tr>\n",
       "      <th>2</th>\n",
       "      <td>ESH</td>\n",
       "      <td>W. Sahara</td>\n",
       "      <td>603253</td>\n",
       "      <td>906.5</td>\n",
       "      <td>Africa</td>\n",
       "    </tr>\n",
       "    <tr>\n",
       "      <th>3</th>\n",
       "      <td>CAN</td>\n",
       "      <td>Canada</td>\n",
       "      <td>35623680</td>\n",
       "      <td>1674000.0</td>\n",
       "      <td>North America</td>\n",
       "    </tr>\n",
       "    <tr>\n",
       "      <th>4</th>\n",
       "      <td>USA</td>\n",
       "      <td>United States of America</td>\n",
       "      <td>326625791</td>\n",
       "      <td>18560000.0</td>\n",
       "      <td>North America</td>\n",
       "    </tr>\n",
       "    <tr>\n",
       "      <th>...</th>\n",
       "      <td>...</td>\n",
       "      <td>...</td>\n",
       "      <td>...</td>\n",
       "      <td>...</td>\n",
       "      <td>...</td>\n",
       "    </tr>\n",
       "    <tr>\n",
       "      <th>170</th>\n",
       "      <td>SRB</td>\n",
       "      <td>Serbia</td>\n",
       "      <td>7111024</td>\n",
       "      <td>101800.0</td>\n",
       "      <td>Europe</td>\n",
       "    </tr>\n",
       "    <tr>\n",
       "      <th>171</th>\n",
       "      <td>MNE</td>\n",
       "      <td>Montenegro</td>\n",
       "      <td>642550</td>\n",
       "      <td>10610.0</td>\n",
       "      <td>Europe</td>\n",
       "    </tr>\n",
       "    <tr>\n",
       "      <th>172</th>\n",
       "      <td>-99</td>\n",
       "      <td>Kosovo</td>\n",
       "      <td>1895250</td>\n",
       "      <td>18490.0</td>\n",
       "      <td>Europe</td>\n",
       "    </tr>\n",
       "    <tr>\n",
       "      <th>173</th>\n",
       "      <td>TTO</td>\n",
       "      <td>Trinidad and Tobago</td>\n",
       "      <td>1218208</td>\n",
       "      <td>43570.0</td>\n",
       "      <td>North America</td>\n",
       "    </tr>\n",
       "    <tr>\n",
       "      <th>174</th>\n",
       "      <td>SSD</td>\n",
       "      <td>S. Sudan</td>\n",
       "      <td>13026129</td>\n",
       "      <td>20880.0</td>\n",
       "      <td>Africa</td>\n",
       "    </tr>\n",
       "  </tbody>\n",
       "</table>\n",
       "<p>175 rows × 5 columns</p>\n",
       "</div>"
      ],
      "text/plain": [
       "    iso_a3                      name    pop_est  gdp_md_est      continent\n",
       "0      FJI                      Fiji     920938      8374.0        Oceania\n",
       "1      TZA                  Tanzania   53950935    150600.0         Africa\n",
       "2      ESH                 W. Sahara     603253       906.5         Africa\n",
       "3      CAN                    Canada   35623680   1674000.0  North America\n",
       "4      USA  United States of America  326625791  18560000.0  North America\n",
       "..     ...                       ...        ...         ...            ...\n",
       "170    SRB                    Serbia    7111024    101800.0         Europe\n",
       "171    MNE                Montenegro     642550     10610.0         Europe\n",
       "172    -99                    Kosovo    1895250     18490.0         Europe\n",
       "173    TTO       Trinidad and Tobago    1218208     43570.0  North America\n",
       "174    SSD                  S. Sudan   13026129     20880.0         Africa\n",
       "\n",
       "[175 rows x 5 columns]"
      ]
     },
     "execution_count": 3,
     "metadata": {},
     "output_type": "execute_result"
    }
   ],
   "source": [
    "countries"
   ]
  },
  {
   "cell_type": "markdown",
   "metadata": {},
   "source": [
    "The object created here is a **DataFrame**:"
   ]
  },
  {
   "cell_type": "code",
   "execution_count": 4,
   "metadata": {
    "collapsed": false,
    "jupyter": {
     "outputs_hidden": false
    }
   },
   "outputs": [
    {
     "data": {
      "text/plain": [
       "pandas.core.frame.DataFrame"
      ]
     },
     "execution_count": 4,
     "metadata": {},
     "output_type": "execute_result"
    }
   ],
   "source": [
    "type(countries)"
   ]
  },
  {
   "cell_type": "markdown",
   "metadata": {},
   "source": [
    "A `DataFrame` is a 2-dimensional, **tablular data structure** comprised of rows and columns. It is similar to a spreadsheet, a database (SQL) table or the data.frame in R.\n",
    "\n",
    "<img align=\"center\" width=50% src=\"../img/pandas/01_table_dataframe1.svg\">"
   ]
  },
  {
   "cell_type": "markdown",
   "metadata": {},
   "source": [
    "A DataFrame can store data of different types (including characters, integers, floating point values, categorical data and more) in columns. In pandas, we can check the data types of the columns with the `dtypes` attribute:"
   ]
  },
  {
   "cell_type": "code",
   "execution_count": 5,
   "metadata": {
    "collapsed": false,
    "jupyter": {
     "outputs_hidden": false
    }
   },
   "outputs": [
    {
     "data": {
      "text/plain": [
       "iso_a3         object\n",
       "name           object\n",
       "pop_est         int64\n",
       "gdp_md_est    float64\n",
       "continent      object\n",
       "dtype: object"
      ]
     },
     "execution_count": 5,
     "metadata": {},
     "output_type": "execute_result"
    }
   ],
   "source": [
    "countries.dtypes"
   ]
  },
  {
   "cell_type": "markdown",
   "metadata": {},
   "source": [
    "### Each column in a `DataFrame` is a `Series`\n",
    "\n",
    "When selecting a single column of a pandas `DataFrame`, the result is a pandas `Series`, a 1-dimensional data structure. \n",
    "\n",
    "To select the column, use the column label in between square brackets `[]`."
   ]
  },
  {
   "cell_type": "code",
   "execution_count": 6,
   "metadata": {
    "collapsed": false,
    "jupyter": {
     "outputs_hidden": false
    }
   },
   "outputs": [
    {
     "data": {
      "text/plain": [
       "0         920938\n",
       "1       53950935\n",
       "2         603253\n",
       "3       35623680\n",
       "4      326625791\n",
       "         ...    \n",
       "170      7111024\n",
       "171       642550\n",
       "172      1895250\n",
       "173      1218208\n",
       "174     13026129\n",
       "Name: pop_est, Length: 175, dtype: int64"
      ]
     },
     "execution_count": 6,
     "metadata": {},
     "output_type": "execute_result"
    }
   ],
   "source": [
    "countries['pop_est']"
   ]
  },
  {
   "cell_type": "code",
   "execution_count": 7,
   "metadata": {
    "collapsed": false,
    "jupyter": {
     "outputs_hidden": false
    }
   },
   "outputs": [
    {
     "data": {
      "text/plain": [
       "pandas.core.series.Series"
      ]
     },
     "execution_count": 7,
     "metadata": {},
     "output_type": "execute_result"
    }
   ],
   "source": [
    "s = countries['pop_est']\n",
    "type(s)"
   ]
  },
  {
   "cell_type": "markdown",
   "metadata": {},
   "source": [
    "### Pandas objects have attributes and methods\n",
    "\n",
    "Pandas provides a lot of functionalities for the DataFrame and Series. The `.dtypes` shown above is an *attribute* of the DataFrame. In addition, there are also functions that can be called on a DataFrame or Series, i.e. *methods*. As methods are functions, do not forget to use parentheses `()` to call them.\n",
    "\n",
    "A few examples that can help exploring the data:"
   ]
  },
  {
   "cell_type": "code",
   "execution_count": 8,
   "metadata": {
    "collapsed": false,
    "jupyter": {
     "outputs_hidden": false
    }
   },
   "outputs": [
    {
     "data": {
      "text/html": [
       "<div>\n",
       "<style scoped>\n",
       "    .dataframe tbody tr th:only-of-type {\n",
       "        vertical-align: middle;\n",
       "    }\n",
       "\n",
       "    .dataframe tbody tr th {\n",
       "        vertical-align: top;\n",
       "    }\n",
       "\n",
       "    .dataframe thead th {\n",
       "        text-align: right;\n",
       "    }\n",
       "</style>\n",
       "<table border=\"1\" class=\"dataframe\">\n",
       "  <thead>\n",
       "    <tr style=\"text-align: right;\">\n",
       "      <th></th>\n",
       "      <th>iso_a3</th>\n",
       "      <th>name</th>\n",
       "      <th>pop_est</th>\n",
       "      <th>gdp_md_est</th>\n",
       "      <th>continent</th>\n",
       "    </tr>\n",
       "  </thead>\n",
       "  <tbody>\n",
       "    <tr>\n",
       "      <th>0</th>\n",
       "      <td>FJI</td>\n",
       "      <td>Fiji</td>\n",
       "      <td>920938</td>\n",
       "      <td>8374.0</td>\n",
       "      <td>Oceania</td>\n",
       "    </tr>\n",
       "    <tr>\n",
       "      <th>1</th>\n",
       "      <td>TZA</td>\n",
       "      <td>Tanzania</td>\n",
       "      <td>53950935</td>\n",
       "      <td>150600.0</td>\n",
       "      <td>Africa</td>\n",
       "    </tr>\n",
       "    <tr>\n",
       "      <th>2</th>\n",
       "      <td>ESH</td>\n",
       "      <td>W. Sahara</td>\n",
       "      <td>603253</td>\n",
       "      <td>906.5</td>\n",
       "      <td>Africa</td>\n",
       "    </tr>\n",
       "    <tr>\n",
       "      <th>3</th>\n",
       "      <td>CAN</td>\n",
       "      <td>Canada</td>\n",
       "      <td>35623680</td>\n",
       "      <td>1674000.0</td>\n",
       "      <td>North America</td>\n",
       "    </tr>\n",
       "    <tr>\n",
       "      <th>4</th>\n",
       "      <td>USA</td>\n",
       "      <td>United States of America</td>\n",
       "      <td>326625791</td>\n",
       "      <td>18560000.0</td>\n",
       "      <td>North America</td>\n",
       "    </tr>\n",
       "  </tbody>\n",
       "</table>\n",
       "</div>"
      ],
      "text/plain": [
       "  iso_a3                      name    pop_est  gdp_md_est      continent\n",
       "0    FJI                      Fiji     920938      8374.0        Oceania\n",
       "1    TZA                  Tanzania   53950935    150600.0         Africa\n",
       "2    ESH                 W. Sahara     603253       906.5         Africa\n",
       "3    CAN                    Canada   35623680   1674000.0  North America\n",
       "4    USA  United States of America  326625791  18560000.0  North America"
      ]
     },
     "execution_count": 8,
     "metadata": {},
     "output_type": "execute_result"
    }
   ],
   "source": [
    "countries.head() # Top rows"
   ]
  },
  {
   "cell_type": "code",
   "execution_count": 9,
   "metadata": {
    "collapsed": false,
    "jupyter": {
     "outputs_hidden": false
    }
   },
   "outputs": [
    {
     "data": {
      "text/html": [
       "<div>\n",
       "<style scoped>\n",
       "    .dataframe tbody tr th:only-of-type {\n",
       "        vertical-align: middle;\n",
       "    }\n",
       "\n",
       "    .dataframe tbody tr th {\n",
       "        vertical-align: top;\n",
       "    }\n",
       "\n",
       "    .dataframe thead th {\n",
       "        text-align: right;\n",
       "    }\n",
       "</style>\n",
       "<table border=\"1\" class=\"dataframe\">\n",
       "  <thead>\n",
       "    <tr style=\"text-align: right;\">\n",
       "      <th></th>\n",
       "      <th>iso_a3</th>\n",
       "      <th>name</th>\n",
       "      <th>pop_est</th>\n",
       "      <th>gdp_md_est</th>\n",
       "      <th>continent</th>\n",
       "    </tr>\n",
       "  </thead>\n",
       "  <tbody>\n",
       "    <tr>\n",
       "      <th>170</th>\n",
       "      <td>SRB</td>\n",
       "      <td>Serbia</td>\n",
       "      <td>7111024</td>\n",
       "      <td>101800.0</td>\n",
       "      <td>Europe</td>\n",
       "    </tr>\n",
       "    <tr>\n",
       "      <th>171</th>\n",
       "      <td>MNE</td>\n",
       "      <td>Montenegro</td>\n",
       "      <td>642550</td>\n",
       "      <td>10610.0</td>\n",
       "      <td>Europe</td>\n",
       "    </tr>\n",
       "    <tr>\n",
       "      <th>172</th>\n",
       "      <td>-99</td>\n",
       "      <td>Kosovo</td>\n",
       "      <td>1895250</td>\n",
       "      <td>18490.0</td>\n",
       "      <td>Europe</td>\n",
       "    </tr>\n",
       "    <tr>\n",
       "      <th>173</th>\n",
       "      <td>TTO</td>\n",
       "      <td>Trinidad and Tobago</td>\n",
       "      <td>1218208</td>\n",
       "      <td>43570.0</td>\n",
       "      <td>North America</td>\n",
       "    </tr>\n",
       "    <tr>\n",
       "      <th>174</th>\n",
       "      <td>SSD</td>\n",
       "      <td>S. Sudan</td>\n",
       "      <td>13026129</td>\n",
       "      <td>20880.0</td>\n",
       "      <td>Africa</td>\n",
       "    </tr>\n",
       "  </tbody>\n",
       "</table>\n",
       "</div>"
      ],
      "text/plain": [
       "    iso_a3                 name   pop_est  gdp_md_est      continent\n",
       "170    SRB               Serbia   7111024    101800.0         Europe\n",
       "171    MNE           Montenegro    642550     10610.0         Europe\n",
       "172    -99               Kosovo   1895250     18490.0         Europe\n",
       "173    TTO  Trinidad and Tobago   1218208     43570.0  North America\n",
       "174    SSD             S. Sudan  13026129     20880.0         Africa"
      ]
     },
     "execution_count": 9,
     "metadata": {},
     "output_type": "execute_result"
    }
   ],
   "source": [
    "countries.tail() # Bottom rows"
   ]
  },
  {
   "cell_type": "markdown",
   "metadata": {},
   "source": [
    "The ``describe`` method computes summary statistics for each column:"
   ]
  },
  {
   "cell_type": "code",
   "execution_count": 10,
   "metadata": {
    "collapsed": false,
    "jupyter": {
     "outputs_hidden": false
    }
   },
   "outputs": [
    {
     "data": {
      "text/plain": [
       "count    1.750000e+02\n",
       "mean     4.218906e+07\n",
       "std      1.467367e+08\n",
       "min      2.931000e+03\n",
       "25%      3.449254e+06\n",
       "50%      1.024807e+07\n",
       "75%      2.956658e+07\n",
       "max      1.379303e+09\n",
       "Name: pop_est, dtype: float64"
      ]
     },
     "execution_count": 10,
     "metadata": {},
     "output_type": "execute_result"
    }
   ],
   "source": [
    "countries['pop_est'].describe()"
   ]
  },
  {
   "cell_type": "markdown",
   "metadata": {},
   "source": [
    "**Sort**ing your data **by** a specific column is another important first-check:"
   ]
  },
  {
   "cell_type": "code",
   "execution_count": 11,
   "metadata": {
    "collapsed": false,
    "jupyter": {
     "outputs_hidden": false
    }
   },
   "outputs": [
    {
     "data": {
      "text/html": [
       "<div>\n",
       "<style scoped>\n",
       "    .dataframe tbody tr th:only-of-type {\n",
       "        vertical-align: middle;\n",
       "    }\n",
       "\n",
       "    .dataframe tbody tr th {\n",
       "        vertical-align: top;\n",
       "    }\n",
       "\n",
       "    .dataframe thead th {\n",
       "        text-align: right;\n",
       "    }\n",
       "</style>\n",
       "<table border=\"1\" class=\"dataframe\">\n",
       "  <thead>\n",
       "    <tr style=\"text-align: right;\">\n",
       "      <th></th>\n",
       "      <th>iso_a3</th>\n",
       "      <th>name</th>\n",
       "      <th>pop_est</th>\n",
       "      <th>gdp_md_est</th>\n",
       "      <th>continent</th>\n",
       "    </tr>\n",
       "  </thead>\n",
       "  <tbody>\n",
       "    <tr>\n",
       "      <th>20</th>\n",
       "      <td>FLK</td>\n",
       "      <td>Falkland Is.</td>\n",
       "      <td>2931</td>\n",
       "      <td>281.8</td>\n",
       "      <td>South America</td>\n",
       "    </tr>\n",
       "    <tr>\n",
       "      <th>22</th>\n",
       "      <td>GRL</td>\n",
       "      <td>Greenland</td>\n",
       "      <td>57713</td>\n",
       "      <td>2173.0</td>\n",
       "      <td>North America</td>\n",
       "    </tr>\n",
       "    <tr>\n",
       "      <th>158</th>\n",
       "      <td>-99</td>\n",
       "      <td>N. Cyprus</td>\n",
       "      <td>265100</td>\n",
       "      <td>3600.0</td>\n",
       "      <td>Asia</td>\n",
       "    </tr>\n",
       "    <tr>\n",
       "      <th>133</th>\n",
       "      <td>NCL</td>\n",
       "      <td>New Caledonia</td>\n",
       "      <td>279070</td>\n",
       "      <td>10770.0</td>\n",
       "      <td>Oceania</td>\n",
       "    </tr>\n",
       "    <tr>\n",
       "      <th>88</th>\n",
       "      <td>VUT</td>\n",
       "      <td>Vanuatu</td>\n",
       "      <td>282814</td>\n",
       "      <td>723.0</td>\n",
       "      <td>Oceania</td>\n",
       "    </tr>\n",
       "    <tr>\n",
       "      <th>...</th>\n",
       "      <td>...</td>\n",
       "      <td>...</td>\n",
       "      <td>...</td>\n",
       "      <td>...</td>\n",
       "      <td>...</td>\n",
       "    </tr>\n",
       "    <tr>\n",
       "      <th>28</th>\n",
       "      <td>BRA</td>\n",
       "      <td>Brazil</td>\n",
       "      <td>207353391</td>\n",
       "      <td>3081000.0</td>\n",
       "      <td>South America</td>\n",
       "    </tr>\n",
       "    <tr>\n",
       "      <th>8</th>\n",
       "      <td>IDN</td>\n",
       "      <td>Indonesia</td>\n",
       "      <td>260580739</td>\n",
       "      <td>3028000.0</td>\n",
       "      <td>Asia</td>\n",
       "    </tr>\n",
       "    <tr>\n",
       "      <th>4</th>\n",
       "      <td>USA</td>\n",
       "      <td>United States of America</td>\n",
       "      <td>326625791</td>\n",
       "      <td>18560000.0</td>\n",
       "      <td>North America</td>\n",
       "    </tr>\n",
       "    <tr>\n",
       "      <th>97</th>\n",
       "      <td>IND</td>\n",
       "      <td>India</td>\n",
       "      <td>1281935911</td>\n",
       "      <td>8721000.0</td>\n",
       "      <td>Asia</td>\n",
       "    </tr>\n",
       "    <tr>\n",
       "      <th>138</th>\n",
       "      <td>CHN</td>\n",
       "      <td>China</td>\n",
       "      <td>1379302771</td>\n",
       "      <td>21140000.0</td>\n",
       "      <td>Asia</td>\n",
       "    </tr>\n",
       "  </tbody>\n",
       "</table>\n",
       "<p>175 rows × 5 columns</p>\n",
       "</div>"
      ],
      "text/plain": [
       "    iso_a3                      name     pop_est  gdp_md_est      continent\n",
       "20     FLK              Falkland Is.        2931       281.8  South America\n",
       "22     GRL                 Greenland       57713      2173.0  North America\n",
       "158    -99                 N. Cyprus      265100      3600.0           Asia\n",
       "133    NCL             New Caledonia      279070     10770.0        Oceania\n",
       "88     VUT                   Vanuatu      282814       723.0        Oceania\n",
       "..     ...                       ...         ...         ...            ...\n",
       "28     BRA                    Brazil   207353391   3081000.0  South America\n",
       "8      IDN                 Indonesia   260580739   3028000.0           Asia\n",
       "4      USA  United States of America   326625791  18560000.0  North America\n",
       "97     IND                     India  1281935911   8721000.0           Asia\n",
       "138    CHN                     China  1379302771  21140000.0           Asia\n",
       "\n",
       "[175 rows x 5 columns]"
      ]
     },
     "execution_count": 11,
     "metadata": {},
     "output_type": "execute_result"
    }
   ],
   "source": [
    "countries.sort_values(by='pop_est')"
   ]
  },
  {
   "cell_type": "markdown",
   "metadata": {},
   "source": [
    "<div style=\"border: 5px solid #3776ab; border-radius: 2px; padding: 2em;\">\n",
    "\n",
    "## Python recap\n",
    "\n",
    "Python objects have **attributes** and **methods**:\n",
    "\n",
    "* Attribute: `obj.attribute` (no parentheses!) -> property of the object (pandas examples: `dtypes`, `columns`, `shape`, ..)\n",
    "* Method: `obj.method()` (function call with parentheses) -> action (pandas examples: `mean()`, `sort_values()`, ...)\n",
    "\n",
    "</div>"
   ]
  },
  {
   "cell_type": "markdown",
   "metadata": {},
   "source": [
    "## Basic operations on Series and DataFrames"
   ]
  },
  {
   "cell_type": "markdown",
   "metadata": {},
   "source": [
    "### Elementwise-operations"
   ]
  },
  {
   "cell_type": "markdown",
   "metadata": {},
   "source": [
    "The typical arithmetic (+, -, \\*, /) and comparison (==, >, <, ...) operations work *element-wise*.\n",
    "\n",
    "With as scalar:"
   ]
  },
  {
   "cell_type": "code",
   "execution_count": 12,
   "metadata": {
    "collapsed": false,
    "jupyter": {
     "outputs_hidden": false
    }
   },
   "outputs": [
    {
     "data": {
      "text/plain": [
       "0       920938\n",
       "1     53950935\n",
       "2       603253\n",
       "3     35623680\n",
       "4    326625791\n",
       "Name: pop_est, dtype: int64"
      ]
     },
     "execution_count": 12,
     "metadata": {},
     "output_type": "execute_result"
    }
   ],
   "source": [
    "population = countries['pop_est'].head()\n",
    "population"
   ]
  },
  {
   "cell_type": "code",
   "execution_count": 13,
   "metadata": {
    "collapsed": false,
    "jupyter": {
     "outputs_hidden": false
    }
   },
   "outputs": [
    {
     "data": {
      "text/plain": [
       "0       920.938\n",
       "1     53950.935\n",
       "2       603.253\n",
       "3     35623.680\n",
       "4    326625.791\n",
       "Name: pop_est, dtype: float64"
      ]
     },
     "execution_count": 13,
     "metadata": {},
     "output_type": "execute_result"
    }
   ],
   "source": [
    "population / 1000"
   ]
  },
  {
   "cell_type": "code",
   "execution_count": 14,
   "metadata": {
    "collapsed": false,
    "jupyter": {
     "outputs_hidden": false
    }
   },
   "outputs": [
    {
     "data": {
      "text/plain": [
       "0    False\n",
       "1     True\n",
       "2    False\n",
       "3     True\n",
       "4     True\n",
       "Name: pop_est, dtype: bool"
      ]
     },
     "execution_count": 14,
     "metadata": {},
     "output_type": "execute_result"
    }
   ],
   "source": [
    "population > 1_000_000"
   ]
  },
  {
   "cell_type": "markdown",
   "metadata": {},
   "source": [
    "With two Series objects:"
   ]
  },
  {
   "cell_type": "code",
   "execution_count": 15,
   "metadata": {
    "collapsed": false,
    "jupyter": {
     "outputs_hidden": false
    }
   },
   "outputs": [
    {
     "data": {
      "text/plain": [
       "0      0.009093\n",
       "1      0.002791\n",
       "2      0.001503\n",
       "3      0.046991\n",
       "4      0.056823\n",
       "         ...   \n",
       "170    0.014316\n",
       "171    0.016512\n",
       "172    0.009756\n",
       "173    0.035766\n",
       "174    0.001603\n",
       "Length: 175, dtype: float64"
      ]
     },
     "execution_count": 15,
     "metadata": {},
     "output_type": "execute_result"
    }
   ],
   "source": [
    "countries['gdp_md_est'] / countries['pop_est']"
   ]
  },
  {
   "cell_type": "markdown",
   "metadata": {},
   "source": [
    "### Aggregations (reductions)"
   ]
  },
  {
   "cell_type": "markdown",
   "metadata": {},
   "source": [
    "Pandas provides a large set of **summary** functions that operate on different kinds of pandas objects (DataFrames, Series, Index) and produce a single value. When applied to a DataFrame, the result is returned as a pandas Series (one value for each column)."
   ]
  },
  {
   "cell_type": "markdown",
   "metadata": {},
   "source": [
    "The average population number:"
   ]
  },
  {
   "cell_type": "code",
   "execution_count": 16,
   "metadata": {
    "collapsed": false,
    "jupyter": {
     "outputs_hidden": false
    }
   },
   "outputs": [
    {
     "data": {
      "text/plain": [
       "np.float64(83544919.4)"
      ]
     },
     "execution_count": 16,
     "metadata": {},
     "output_type": "execute_result"
    }
   ],
   "source": [
    "population.mean()"
   ]
  },
  {
   "cell_type": "markdown",
   "metadata": {},
   "source": [
    "The maximum GDP:"
   ]
  },
  {
   "cell_type": "code",
   "execution_count": 17,
   "metadata": {
    "collapsed": false,
    "jupyter": {
     "outputs_hidden": false
    }
   },
   "outputs": [
    {
     "data": {
      "text/plain": [
       "np.float64(21140000.0)"
      ]
     },
     "execution_count": 17,
     "metadata": {},
     "output_type": "execute_result"
    }
   ],
   "source": [
    "countries['gdp_md_est'].max()"
   ]
  },
  {
   "cell_type": "markdown",
   "metadata": {},
   "source": [
    "For dataframes, only the numeric columns are included in the result:"
   ]
  },
  {
   "cell_type": "code",
   "execution_count": 18,
   "metadata": {
    "collapsed": false,
    "jupyter": {
     "outputs_hidden": false
    }
   },
   "outputs": [
    {
     "data": {
      "text/plain": [
       "pop_est       10248069.0\n",
       "gdp_md_est       85160.0\n",
       "dtype: float64"
      ]
     },
     "execution_count": 18,
     "metadata": {},
     "output_type": "execute_result"
    }
   ],
   "source": [
    "countries.median(numeric_only=True)"
   ]
  },
  {
   "cell_type": "markdown",
   "metadata": {},
   "source": [
    "### Adding new columns\n",
    "\n",
    "We can add a new column to a DataFrame with similar syntax as selecting a columns: create a new column by assigning the output to the DataFrame with a new column name in between the `[]`.\n",
    "\n",
    "For example, to add the GDP per capita calculated above, we can do:"
   ]
  },
  {
   "cell_type": "code",
   "execution_count": 19,
   "metadata": {},
   "outputs": [],
   "source": [
    "countries['gdp_capita'] = countries['gdp_md_est'] / countries['pop_est']"
   ]
  },
  {
   "cell_type": "code",
   "execution_count": 20,
   "metadata": {
    "collapsed": false,
    "jupyter": {
     "outputs_hidden": false
    }
   },
   "outputs": [
    {
     "data": {
      "text/html": [
       "<div>\n",
       "<style scoped>\n",
       "    .dataframe tbody tr th:only-of-type {\n",
       "        vertical-align: middle;\n",
       "    }\n",
       "\n",
       "    .dataframe tbody tr th {\n",
       "        vertical-align: top;\n",
       "    }\n",
       "\n",
       "    .dataframe thead th {\n",
       "        text-align: right;\n",
       "    }\n",
       "</style>\n",
       "<table border=\"1\" class=\"dataframe\">\n",
       "  <thead>\n",
       "    <tr style=\"text-align: right;\">\n",
       "      <th></th>\n",
       "      <th>iso_a3</th>\n",
       "      <th>name</th>\n",
       "      <th>pop_est</th>\n",
       "      <th>gdp_md_est</th>\n",
       "      <th>continent</th>\n",
       "      <th>gdp_capita</th>\n",
       "    </tr>\n",
       "  </thead>\n",
       "  <tbody>\n",
       "    <tr>\n",
       "      <th>0</th>\n",
       "      <td>FJI</td>\n",
       "      <td>Fiji</td>\n",
       "      <td>920938</td>\n",
       "      <td>8374.0</td>\n",
       "      <td>Oceania</td>\n",
       "      <td>0.009093</td>\n",
       "    </tr>\n",
       "    <tr>\n",
       "      <th>1</th>\n",
       "      <td>TZA</td>\n",
       "      <td>Tanzania</td>\n",
       "      <td>53950935</td>\n",
       "      <td>150600.0</td>\n",
       "      <td>Africa</td>\n",
       "      <td>0.002791</td>\n",
       "    </tr>\n",
       "    <tr>\n",
       "      <th>2</th>\n",
       "      <td>ESH</td>\n",
       "      <td>W. Sahara</td>\n",
       "      <td>603253</td>\n",
       "      <td>906.5</td>\n",
       "      <td>Africa</td>\n",
       "      <td>0.001503</td>\n",
       "    </tr>\n",
       "    <tr>\n",
       "      <th>3</th>\n",
       "      <td>CAN</td>\n",
       "      <td>Canada</td>\n",
       "      <td>35623680</td>\n",
       "      <td>1674000.0</td>\n",
       "      <td>North America</td>\n",
       "      <td>0.046991</td>\n",
       "    </tr>\n",
       "    <tr>\n",
       "      <th>4</th>\n",
       "      <td>USA</td>\n",
       "      <td>United States of America</td>\n",
       "      <td>326625791</td>\n",
       "      <td>18560000.0</td>\n",
       "      <td>North America</td>\n",
       "      <td>0.056823</td>\n",
       "    </tr>\n",
       "  </tbody>\n",
       "</table>\n",
       "</div>"
      ],
      "text/plain": [
       "  iso_a3                      name    pop_est  gdp_md_est      continent  \\\n",
       "0    FJI                      Fiji     920938      8374.0        Oceania   \n",
       "1    TZA                  Tanzania   53950935    150600.0         Africa   \n",
       "2    ESH                 W. Sahara     603253       906.5         Africa   \n",
       "3    CAN                    Canada   35623680   1674000.0  North America   \n",
       "4    USA  United States of America  326625791  18560000.0  North America   \n",
       "\n",
       "   gdp_capita  \n",
       "0    0.009093  \n",
       "1    0.002791  \n",
       "2    0.001503  \n",
       "3    0.046991  \n",
       "4    0.056823  "
      ]
     },
     "execution_count": 20,
     "metadata": {},
     "output_type": "execute_result"
    }
   ],
   "source": [
    "countries.head()"
   ]
  },
  {
   "cell_type": "markdown",
   "metadata": {},
   "source": [
    "## Indexing: selecting a subset of the data"
   ]
  },
  {
   "cell_type": "markdown",
   "metadata": {},
   "source": [
    "### Subset variables (columns)"
   ]
  },
  {
   "cell_type": "markdown",
   "metadata": {},
   "source": [
    "For a DataFrame, basic indexing selects the columns (cfr. the dictionaries of pure python)\n",
    "\n",
    "Selecting a **single column**:"
   ]
  },
  {
   "cell_type": "code",
   "execution_count": 21,
   "metadata": {
    "collapsed": false,
    "jupyter": {
     "outputs_hidden": false
    }
   },
   "outputs": [
    {
     "data": {
      "text/plain": [
       "0         920938\n",
       "1       53950935\n",
       "2         603253\n",
       "3       35623680\n",
       "4      326625791\n",
       "         ...    \n",
       "170      7111024\n",
       "171       642550\n",
       "172      1895250\n",
       "173      1218208\n",
       "174     13026129\n",
       "Name: pop_est, Length: 175, dtype: int64"
      ]
     },
     "execution_count": 21,
     "metadata": {},
     "output_type": "execute_result"
    }
   ],
   "source": [
    "countries['pop_est'] # single []"
   ]
  },
  {
   "cell_type": "markdown",
   "metadata": {},
   "source": [
    "Remember that the same syntax can also be used to *add* a new columns: `df['new'] = ...`.\n",
    "\n",
    "We can also select **multiple columns** by passing a list of column names into `[]`:"
   ]
  },
  {
   "cell_type": "code",
   "execution_count": 22,
   "metadata": {
    "collapsed": false,
    "jupyter": {
     "outputs_hidden": false
    }
   },
   "outputs": [
    {
     "data": {
      "text/html": [
       "<div>\n",
       "<style scoped>\n",
       "    .dataframe tbody tr th:only-of-type {\n",
       "        vertical-align: middle;\n",
       "    }\n",
       "\n",
       "    .dataframe tbody tr th {\n",
       "        vertical-align: top;\n",
       "    }\n",
       "\n",
       "    .dataframe thead th {\n",
       "        text-align: right;\n",
       "    }\n",
       "</style>\n",
       "<table border=\"1\" class=\"dataframe\">\n",
       "  <thead>\n",
       "    <tr style=\"text-align: right;\">\n",
       "      <th></th>\n",
       "      <th>name</th>\n",
       "      <th>pop_est</th>\n",
       "    </tr>\n",
       "  </thead>\n",
       "  <tbody>\n",
       "    <tr>\n",
       "      <th>0</th>\n",
       "      <td>Fiji</td>\n",
       "      <td>920938</td>\n",
       "    </tr>\n",
       "    <tr>\n",
       "      <th>1</th>\n",
       "      <td>Tanzania</td>\n",
       "      <td>53950935</td>\n",
       "    </tr>\n",
       "    <tr>\n",
       "      <th>2</th>\n",
       "      <td>W. Sahara</td>\n",
       "      <td>603253</td>\n",
       "    </tr>\n",
       "    <tr>\n",
       "      <th>3</th>\n",
       "      <td>Canada</td>\n",
       "      <td>35623680</td>\n",
       "    </tr>\n",
       "    <tr>\n",
       "      <th>4</th>\n",
       "      <td>United States of America</td>\n",
       "      <td>326625791</td>\n",
       "    </tr>\n",
       "    <tr>\n",
       "      <th>...</th>\n",
       "      <td>...</td>\n",
       "      <td>...</td>\n",
       "    </tr>\n",
       "    <tr>\n",
       "      <th>170</th>\n",
       "      <td>Serbia</td>\n",
       "      <td>7111024</td>\n",
       "    </tr>\n",
       "    <tr>\n",
       "      <th>171</th>\n",
       "      <td>Montenegro</td>\n",
       "      <td>642550</td>\n",
       "    </tr>\n",
       "    <tr>\n",
       "      <th>172</th>\n",
       "      <td>Kosovo</td>\n",
       "      <td>1895250</td>\n",
       "    </tr>\n",
       "    <tr>\n",
       "      <th>173</th>\n",
       "      <td>Trinidad and Tobago</td>\n",
       "      <td>1218208</td>\n",
       "    </tr>\n",
       "    <tr>\n",
       "      <th>174</th>\n",
       "      <td>S. Sudan</td>\n",
       "      <td>13026129</td>\n",
       "    </tr>\n",
       "  </tbody>\n",
       "</table>\n",
       "<p>175 rows × 2 columns</p>\n",
       "</div>"
      ],
      "text/plain": [
       "                         name    pop_est\n",
       "0                        Fiji     920938\n",
       "1                    Tanzania   53950935\n",
       "2                   W. Sahara     603253\n",
       "3                      Canada   35623680\n",
       "4    United States of America  326625791\n",
       "..                        ...        ...\n",
       "170                    Serbia    7111024\n",
       "171                Montenegro     642550\n",
       "172                    Kosovo    1895250\n",
       "173       Trinidad and Tobago    1218208\n",
       "174                  S. Sudan   13026129\n",
       "\n",
       "[175 rows x 2 columns]"
      ]
     },
     "execution_count": 22,
     "metadata": {},
     "output_type": "execute_result"
    }
   ],
   "source": [
    "countries[['name', 'pop_est']] # double [[]]"
   ]
  },
  {
   "cell_type": "markdown",
   "metadata": {},
   "source": [
    "### Subset observations (rows)"
   ]
  },
  {
   "cell_type": "markdown",
   "metadata": {},
   "source": [
    "Using `[]`, slicing or boolean indexing accesses the **rows**:"
   ]
  },
  {
   "cell_type": "markdown",
   "metadata": {},
   "source": [
    "### Slicing"
   ]
  },
  {
   "cell_type": "code",
   "execution_count": 23,
   "metadata": {
    "collapsed": false,
    "jupyter": {
     "outputs_hidden": false
    }
   },
   "outputs": [
    {
     "data": {
      "text/html": [
       "<div>\n",
       "<style scoped>\n",
       "    .dataframe tbody tr th:only-of-type {\n",
       "        vertical-align: middle;\n",
       "    }\n",
       "\n",
       "    .dataframe tbody tr th {\n",
       "        vertical-align: top;\n",
       "    }\n",
       "\n",
       "    .dataframe thead th {\n",
       "        text-align: right;\n",
       "    }\n",
       "</style>\n",
       "<table border=\"1\" class=\"dataframe\">\n",
       "  <thead>\n",
       "    <tr style=\"text-align: right;\">\n",
       "      <th></th>\n",
       "      <th>iso_a3</th>\n",
       "      <th>name</th>\n",
       "      <th>pop_est</th>\n",
       "      <th>gdp_md_est</th>\n",
       "      <th>continent</th>\n",
       "      <th>gdp_capita</th>\n",
       "    </tr>\n",
       "  </thead>\n",
       "  <tbody>\n",
       "    <tr>\n",
       "      <th>0</th>\n",
       "      <td>FJI</td>\n",
       "      <td>Fiji</td>\n",
       "      <td>920938</td>\n",
       "      <td>8374.0</td>\n",
       "      <td>Oceania</td>\n",
       "      <td>0.009093</td>\n",
       "    </tr>\n",
       "    <tr>\n",
       "      <th>1</th>\n",
       "      <td>TZA</td>\n",
       "      <td>Tanzania</td>\n",
       "      <td>53950935</td>\n",
       "      <td>150600.0</td>\n",
       "      <td>Africa</td>\n",
       "      <td>0.002791</td>\n",
       "    </tr>\n",
       "    <tr>\n",
       "      <th>2</th>\n",
       "      <td>ESH</td>\n",
       "      <td>W. Sahara</td>\n",
       "      <td>603253</td>\n",
       "      <td>906.5</td>\n",
       "      <td>Africa</td>\n",
       "      <td>0.001503</td>\n",
       "    </tr>\n",
       "    <tr>\n",
       "      <th>3</th>\n",
       "      <td>CAN</td>\n",
       "      <td>Canada</td>\n",
       "      <td>35623680</td>\n",
       "      <td>1674000.0</td>\n",
       "      <td>North America</td>\n",
       "      <td>0.046991</td>\n",
       "    </tr>\n",
       "  </tbody>\n",
       "</table>\n",
       "</div>"
      ],
      "text/plain": [
       "  iso_a3       name   pop_est  gdp_md_est      continent  gdp_capita\n",
       "0    FJI       Fiji    920938      8374.0        Oceania    0.009093\n",
       "1    TZA   Tanzania  53950935    150600.0         Africa    0.002791\n",
       "2    ESH  W. Sahara    603253       906.5         Africa    0.001503\n",
       "3    CAN     Canada  35623680   1674000.0  North America    0.046991"
      ]
     },
     "execution_count": 23,
     "metadata": {},
     "output_type": "execute_result"
    }
   ],
   "source": [
    "countries[0:4]"
   ]
  },
  {
   "cell_type": "markdown",
   "metadata": {},
   "source": [
    "### Boolean indexing (filtering)"
   ]
  },
  {
   "cell_type": "markdown",
   "metadata": {},
   "source": [
    "Often, you want to select rows based on a certain condition. This can be done with *'boolean indexing'* (like a WHERE clause in SQL).\n",
    "\n",
    "The indexer (or boolean mask) should be 1-dimensional and the same length as the thing being indexed."
   ]
  },
  {
   "cell_type": "code",
   "execution_count": 24,
   "metadata": {
    "collapsed": false,
    "jupyter": {
     "outputs_hidden": false
    }
   },
   "outputs": [
    {
     "data": {
      "text/html": [
       "<div>\n",
       "<style scoped>\n",
       "    .dataframe tbody tr th:only-of-type {\n",
       "        vertical-align: middle;\n",
       "    }\n",
       "\n",
       "    .dataframe tbody tr th {\n",
       "        vertical-align: top;\n",
       "    }\n",
       "\n",
       "    .dataframe thead th {\n",
       "        text-align: right;\n",
       "    }\n",
       "</style>\n",
       "<table border=\"1\" class=\"dataframe\">\n",
       "  <thead>\n",
       "    <tr style=\"text-align: right;\">\n",
       "      <th></th>\n",
       "      <th>iso_a3</th>\n",
       "      <th>name</th>\n",
       "      <th>pop_est</th>\n",
       "      <th>gdp_md_est</th>\n",
       "      <th>continent</th>\n",
       "      <th>gdp_capita</th>\n",
       "    </tr>\n",
       "  </thead>\n",
       "  <tbody>\n",
       "    <tr>\n",
       "      <th>0</th>\n",
       "      <td>FJI</td>\n",
       "      <td>Fiji</td>\n",
       "      <td>920938</td>\n",
       "      <td>8374.0</td>\n",
       "      <td>Oceania</td>\n",
       "      <td>0.009093</td>\n",
       "    </tr>\n",
       "    <tr>\n",
       "      <th>1</th>\n",
       "      <td>TZA</td>\n",
       "      <td>Tanzania</td>\n",
       "      <td>53950935</td>\n",
       "      <td>150600.0</td>\n",
       "      <td>Africa</td>\n",
       "      <td>0.002791</td>\n",
       "    </tr>\n",
       "    <tr>\n",
       "      <th>2</th>\n",
       "      <td>ESH</td>\n",
       "      <td>W. Sahara</td>\n",
       "      <td>603253</td>\n",
       "      <td>906.5</td>\n",
       "      <td>Africa</td>\n",
       "      <td>0.001503</td>\n",
       "    </tr>\n",
       "    <tr>\n",
       "      <th>3</th>\n",
       "      <td>CAN</td>\n",
       "      <td>Canada</td>\n",
       "      <td>35623680</td>\n",
       "      <td>1674000.0</td>\n",
       "      <td>North America</td>\n",
       "      <td>0.046991</td>\n",
       "    </tr>\n",
       "    <tr>\n",
       "      <th>4</th>\n",
       "      <td>USA</td>\n",
       "      <td>United States of America</td>\n",
       "      <td>326625791</td>\n",
       "      <td>18560000.0</td>\n",
       "      <td>North America</td>\n",
       "      <td>0.056823</td>\n",
       "    </tr>\n",
       "  </tbody>\n",
       "</table>\n",
       "</div>"
      ],
      "text/plain": [
       "  iso_a3                      name    pop_est  gdp_md_est      continent  \\\n",
       "0    FJI                      Fiji     920938      8374.0        Oceania   \n",
       "1    TZA                  Tanzania   53950935    150600.0         Africa   \n",
       "2    ESH                 W. Sahara     603253       906.5         Africa   \n",
       "3    CAN                    Canada   35623680   1674000.0  North America   \n",
       "4    USA  United States of America  326625791  18560000.0  North America   \n",
       "\n",
       "   gdp_capita  \n",
       "0    0.009093  \n",
       "1    0.002791  \n",
       "2    0.001503  \n",
       "3    0.046991  \n",
       "4    0.056823  "
      ]
     },
     "execution_count": 24,
     "metadata": {},
     "output_type": "execute_result"
    }
   ],
   "source": [
    "# taking the first 5 rows to illustrate\n",
    "df = countries.head()\n",
    "df"
   ]
  },
  {
   "cell_type": "code",
   "execution_count": 25,
   "metadata": {
    "collapsed": false,
    "jupyter": {
     "outputs_hidden": false
    }
   },
   "outputs": [
    {
     "data": {
      "text/plain": [
       "0    False\n",
       "1     True\n",
       "2    False\n",
       "3     True\n",
       "4     True\n",
       "Name: pop_est, dtype: bool"
      ]
     },
     "execution_count": 25,
     "metadata": {},
     "output_type": "execute_result"
    }
   ],
   "source": [
    "mask = df['pop_est'] > 1_000_000\n",
    "mask"
   ]
  },
  {
   "cell_type": "code",
   "execution_count": 26,
   "metadata": {
    "collapsed": false,
    "jupyter": {
     "outputs_hidden": false
    }
   },
   "outputs": [
    {
     "data": {
      "text/html": [
       "<div>\n",
       "<style scoped>\n",
       "    .dataframe tbody tr th:only-of-type {\n",
       "        vertical-align: middle;\n",
       "    }\n",
       "\n",
       "    .dataframe tbody tr th {\n",
       "        vertical-align: top;\n",
       "    }\n",
       "\n",
       "    .dataframe thead th {\n",
       "        text-align: right;\n",
       "    }\n",
       "</style>\n",
       "<table border=\"1\" class=\"dataframe\">\n",
       "  <thead>\n",
       "    <tr style=\"text-align: right;\">\n",
       "      <th></th>\n",
       "      <th>iso_a3</th>\n",
       "      <th>name</th>\n",
       "      <th>pop_est</th>\n",
       "      <th>gdp_md_est</th>\n",
       "      <th>continent</th>\n",
       "      <th>gdp_capita</th>\n",
       "    </tr>\n",
       "  </thead>\n",
       "  <tbody>\n",
       "    <tr>\n",
       "      <th>1</th>\n",
       "      <td>TZA</td>\n",
       "      <td>Tanzania</td>\n",
       "      <td>53950935</td>\n",
       "      <td>150600.0</td>\n",
       "      <td>Africa</td>\n",
       "      <td>0.002791</td>\n",
       "    </tr>\n",
       "    <tr>\n",
       "      <th>3</th>\n",
       "      <td>CAN</td>\n",
       "      <td>Canada</td>\n",
       "      <td>35623680</td>\n",
       "      <td>1674000.0</td>\n",
       "      <td>North America</td>\n",
       "      <td>0.046991</td>\n",
       "    </tr>\n",
       "    <tr>\n",
       "      <th>4</th>\n",
       "      <td>USA</td>\n",
       "      <td>United States of America</td>\n",
       "      <td>326625791</td>\n",
       "      <td>18560000.0</td>\n",
       "      <td>North America</td>\n",
       "      <td>0.056823</td>\n",
       "    </tr>\n",
       "  </tbody>\n",
       "</table>\n",
       "</div>"
      ],
      "text/plain": [
       "  iso_a3                      name    pop_est  gdp_md_est      continent  \\\n",
       "1    TZA                  Tanzania   53950935    150600.0         Africa   \n",
       "3    CAN                    Canada   35623680   1674000.0  North America   \n",
       "4    USA  United States of America  326625791  18560000.0  North America   \n",
       "\n",
       "   gdp_capita  \n",
       "1    0.002791  \n",
       "3    0.046991  \n",
       "4    0.056823  "
      ]
     },
     "execution_count": 26,
     "metadata": {},
     "output_type": "execute_result"
    }
   ],
   "source": [
    "df[mask]"
   ]
  },
  {
   "cell_type": "code",
   "execution_count": 27,
   "metadata": {
    "collapsed": false,
    "jupyter": {
     "outputs_hidden": false
    }
   },
   "outputs": [
    {
     "data": {
      "text/html": [
       "<div>\n",
       "<style scoped>\n",
       "    .dataframe tbody tr th:only-of-type {\n",
       "        vertical-align: middle;\n",
       "    }\n",
       "\n",
       "    .dataframe tbody tr th {\n",
       "        vertical-align: top;\n",
       "    }\n",
       "\n",
       "    .dataframe thead th {\n",
       "        text-align: right;\n",
       "    }\n",
       "</style>\n",
       "<table border=\"1\" class=\"dataframe\">\n",
       "  <thead>\n",
       "    <tr style=\"text-align: right;\">\n",
       "      <th></th>\n",
       "      <th>iso_a3</th>\n",
       "      <th>name</th>\n",
       "      <th>pop_est</th>\n",
       "      <th>gdp_md_est</th>\n",
       "      <th>continent</th>\n",
       "      <th>gdp_capita</th>\n",
       "    </tr>\n",
       "  </thead>\n",
       "  <tbody>\n",
       "    <tr>\n",
       "      <th>1</th>\n",
       "      <td>TZA</td>\n",
       "      <td>Tanzania</td>\n",
       "      <td>53950935</td>\n",
       "      <td>150600.0</td>\n",
       "      <td>Africa</td>\n",
       "      <td>0.002791</td>\n",
       "    </tr>\n",
       "    <tr>\n",
       "      <th>3</th>\n",
       "      <td>CAN</td>\n",
       "      <td>Canada</td>\n",
       "      <td>35623680</td>\n",
       "      <td>1674000.0</td>\n",
       "      <td>North America</td>\n",
       "      <td>0.046991</td>\n",
       "    </tr>\n",
       "    <tr>\n",
       "      <th>4</th>\n",
       "      <td>USA</td>\n",
       "      <td>United States of America</td>\n",
       "      <td>326625791</td>\n",
       "      <td>18560000.0</td>\n",
       "      <td>North America</td>\n",
       "      <td>0.056823</td>\n",
       "    </tr>\n",
       "  </tbody>\n",
       "</table>\n",
       "</div>"
      ],
      "text/plain": [
       "  iso_a3                      name    pop_est  gdp_md_est      continent  \\\n",
       "1    TZA                  Tanzania   53950935    150600.0         Africa   \n",
       "3    CAN                    Canada   35623680   1674000.0  North America   \n",
       "4    USA  United States of America  326625791  18560000.0  North America   \n",
       "\n",
       "   gdp_capita  \n",
       "1    0.002791  \n",
       "3    0.046991  \n",
       "4    0.056823  "
      ]
     },
     "execution_count": 27,
     "metadata": {},
     "output_type": "execute_result"
    }
   ],
   "source": [
    "# or in one go\n",
    "df[df['pop_est'] > 1_000_000]"
   ]
  },
  {
   "cell_type": "markdown",
   "metadata": {},
   "source": [
    "With the full dataset:"
   ]
  },
  {
   "cell_type": "code",
   "execution_count": 28,
   "metadata": {
    "collapsed": false,
    "jupyter": {
     "outputs_hidden": false
    }
   },
   "outputs": [
    {
     "data": {
      "text/html": [
       "<div>\n",
       "<style scoped>\n",
       "    .dataframe tbody tr th:only-of-type {\n",
       "        vertical-align: middle;\n",
       "    }\n",
       "\n",
       "    .dataframe tbody tr th {\n",
       "        vertical-align: top;\n",
       "    }\n",
       "\n",
       "    .dataframe thead th {\n",
       "        text-align: right;\n",
       "    }\n",
       "</style>\n",
       "<table border=\"1\" class=\"dataframe\">\n",
       "  <thead>\n",
       "    <tr style=\"text-align: right;\">\n",
       "      <th></th>\n",
       "      <th>iso_a3</th>\n",
       "      <th>name</th>\n",
       "      <th>pop_est</th>\n",
       "      <th>gdp_md_est</th>\n",
       "      <th>continent</th>\n",
       "      <th>gdp_capita</th>\n",
       "    </tr>\n",
       "  </thead>\n",
       "  <tbody>\n",
       "    <tr>\n",
       "      <th>4</th>\n",
       "      <td>USA</td>\n",
       "      <td>United States of America</td>\n",
       "      <td>326625791</td>\n",
       "      <td>18560000.0</td>\n",
       "      <td>North America</td>\n",
       "      <td>0.056823</td>\n",
       "    </tr>\n",
       "    <tr>\n",
       "      <th>97</th>\n",
       "      <td>IND</td>\n",
       "      <td>India</td>\n",
       "      <td>1281935911</td>\n",
       "      <td>8721000.0</td>\n",
       "      <td>Asia</td>\n",
       "      <td>0.006803</td>\n",
       "    </tr>\n",
       "    <tr>\n",
       "      <th>138</th>\n",
       "      <td>CHN</td>\n",
       "      <td>China</td>\n",
       "      <td>1379302771</td>\n",
       "      <td>21140000.0</td>\n",
       "      <td>Asia</td>\n",
       "      <td>0.015327</td>\n",
       "    </tr>\n",
       "  </tbody>\n",
       "</table>\n",
       "</div>"
      ],
      "text/plain": [
       "    iso_a3                      name     pop_est  gdp_md_est      continent  \\\n",
       "4      USA  United States of America   326625791  18560000.0  North America   \n",
       "97     IND                     India  1281935911   8721000.0           Asia   \n",
       "138    CHN                     China  1379302771  21140000.0           Asia   \n",
       "\n",
       "     gdp_capita  \n",
       "4      0.056823  \n",
       "97     0.006803  \n",
       "138    0.015327  "
      ]
     },
     "execution_count": 28,
     "metadata": {},
     "output_type": "execute_result"
    }
   ],
   "source": [
    "countries[countries['gdp_md_est'] > 5_000_000]"
   ]
  },
  {
   "cell_type": "code",
   "execution_count": 29,
   "metadata": {
    "collapsed": false,
    "jupyter": {
     "outputs_hidden": false
    }
   },
   "outputs": [
    {
     "data": {
      "text/html": [
       "<div>\n",
       "<style scoped>\n",
       "    .dataframe tbody tr th:only-of-type {\n",
       "        vertical-align: middle;\n",
       "    }\n",
       "\n",
       "    .dataframe tbody tr th {\n",
       "        vertical-align: top;\n",
       "    }\n",
       "\n",
       "    .dataframe thead th {\n",
       "        text-align: right;\n",
       "    }\n",
       "</style>\n",
       "<table border=\"1\" class=\"dataframe\">\n",
       "  <thead>\n",
       "    <tr style=\"text-align: right;\">\n",
       "      <th></th>\n",
       "      <th>iso_a3</th>\n",
       "      <th>name</th>\n",
       "      <th>pop_est</th>\n",
       "      <th>gdp_md_est</th>\n",
       "      <th>continent</th>\n",
       "      <th>gdp_capita</th>\n",
       "    </tr>\n",
       "  </thead>\n",
       "  <tbody>\n",
       "    <tr>\n",
       "      <th>0</th>\n",
       "      <td>FJI</td>\n",
       "      <td>Fiji</td>\n",
       "      <td>920938</td>\n",
       "      <td>8374.0</td>\n",
       "      <td>Oceania</td>\n",
       "      <td>0.009093</td>\n",
       "    </tr>\n",
       "    <tr>\n",
       "      <th>7</th>\n",
       "      <td>PNG</td>\n",
       "      <td>Papua New Guinea</td>\n",
       "      <td>6909701</td>\n",
       "      <td>28020.0</td>\n",
       "      <td>Oceania</td>\n",
       "      <td>0.004055</td>\n",
       "    </tr>\n",
       "    <tr>\n",
       "      <th>88</th>\n",
       "      <td>VUT</td>\n",
       "      <td>Vanuatu</td>\n",
       "      <td>282814</td>\n",
       "      <td>723.0</td>\n",
       "      <td>Oceania</td>\n",
       "      <td>0.002556</td>\n",
       "    </tr>\n",
       "    <tr>\n",
       "      <th>133</th>\n",
       "      <td>NCL</td>\n",
       "      <td>New Caledonia</td>\n",
       "      <td>279070</td>\n",
       "      <td>10770.0</td>\n",
       "      <td>Oceania</td>\n",
       "      <td>0.038592</td>\n",
       "    </tr>\n",
       "    <tr>\n",
       "      <th>134</th>\n",
       "      <td>SLB</td>\n",
       "      <td>Solomon Is.</td>\n",
       "      <td>647581</td>\n",
       "      <td>1198.0</td>\n",
       "      <td>Oceania</td>\n",
       "      <td>0.001850</td>\n",
       "    </tr>\n",
       "    <tr>\n",
       "      <th>135</th>\n",
       "      <td>NZL</td>\n",
       "      <td>New Zealand</td>\n",
       "      <td>4510327</td>\n",
       "      <td>174800.0</td>\n",
       "      <td>Oceania</td>\n",
       "      <td>0.038756</td>\n",
       "    </tr>\n",
       "    <tr>\n",
       "      <th>136</th>\n",
       "      <td>AUS</td>\n",
       "      <td>Australia</td>\n",
       "      <td>23232413</td>\n",
       "      <td>1189000.0</td>\n",
       "      <td>Oceania</td>\n",
       "      <td>0.051178</td>\n",
       "    </tr>\n",
       "  </tbody>\n",
       "</table>\n",
       "</div>"
      ],
      "text/plain": [
       "    iso_a3              name   pop_est  gdp_md_est continent  gdp_capita\n",
       "0      FJI              Fiji    920938      8374.0   Oceania    0.009093\n",
       "7      PNG  Papua New Guinea   6909701     28020.0   Oceania    0.004055\n",
       "88     VUT           Vanuatu    282814       723.0   Oceania    0.002556\n",
       "133    NCL     New Caledonia    279070     10770.0   Oceania    0.038592\n",
       "134    SLB       Solomon Is.    647581      1198.0   Oceania    0.001850\n",
       "135    NZL       New Zealand   4510327    174800.0   Oceania    0.038756\n",
       "136    AUS         Australia  23232413   1189000.0   Oceania    0.051178"
      ]
     },
     "execution_count": 29,
     "metadata": {},
     "output_type": "execute_result"
    }
   ],
   "source": [
    "countries[countries['continent'] == \"Oceania\"]"
   ]
  },
  {
   "cell_type": "markdown",
   "metadata": {},
   "source": [
    "An overview of the possible comparison operations:\n",
    "\n",
    "Operator   |  Description\n",
    "------ | --------\n",
    "==       | Equal\n",
    "!=       | Not equal\n",
    "\\>       | Greater than\n",
    "\\>=       | Greater than or equal\n",
    "<       | Lesser than\n",
    "<=       | Lesser than or equal\n",
    "\n",
    "and to combine multiple conditions:\n",
    "\n",
    "Operator   |  Description\n",
    "------ | --------\n",
    "&       | And (`cond1 & cond2`)\n",
    "\\|       | Or (`cond1 \\| cond2`)"
   ]
  },
  {
   "cell_type": "markdown",
   "metadata": {},
   "source": [
    "<div class=\"alert alert-info\" style=\"font-size:120%\">\n",
    "<b>REMEMBER</b>: <br><br>\n",
    "\n",
    "So as a summary, `[]` provides the following convenience shortcuts:\n",
    "\n",
    "* **Series**: selecting a **label**: `s[label]`\n",
    "* **DataFrame**: selecting a single or multiple **columns**:`df['col']` or `df[['col1', 'col2']]`\n",
    "* **DataFrame**: slicing or filtering the **rows**: `df['row_label1':'row_label2']` or `df[mask]`\n",
    "\n",
    "</div>"
   ]
  },
  {
   "cell_type": "markdown",
   "metadata": {},
   "source": [
    "## Let's practice! (part I)\n",
    "\n",
    "Throughout the exercises in this course on vector data, we will work with several datasets about the city of Paris.\n",
    "\n",
    "Here, we start with the following datasets:\n",
    "\n",
    "- Information about the administrative districts of Paris: `paris_districts.csv`\n",
    "- Real-time (at the moment I downloaded them ..) information about the public bicycle sharing system in Paris (vélib, https://opendata.paris.fr/explore/dataset/stations-velib-disponibilites-en-temps-reel/information/): `paris_bike_stations.csv`"
   ]
  },
  {
   "cell_type": "markdown",
   "metadata": {},
   "source": [
    "<div class=\"alert alert-success\">\n",
    "\n",
    "**EXERCISE**:\n",
    "\n",
    "* Read the `data/paris_districts.csv` file, and assign the DataFrame to a variable called `districts`.\n",
    "* Check the first rows of the DataFrame. \n",
    "\n",
    "<details>\n",
    "  <summary>Hints</summary>\n",
    "\n",
    "* For reading a CSV file, we can use the `pd.read_csv()` function. The first argument it takes is the path to the file.\n",
    "\n",
    "</details>\n",
    "    \n",
    "</div>"
   ]
  },
  {
   "cell_type": "code",
   "execution_count": 30,
   "metadata": {
    "tags": [
     "nbtutor-solution"
    ]
   },
   "outputs": [],
   "source": [
    "districts = pd.read_csv(\"data/paris_districts.csv\")"
   ]
  },
  {
   "cell_type": "code",
   "execution_count": 31,
   "metadata": {
    "collapsed": false,
    "jupyter": {
     "outputs_hidden": false
    },
    "tags": [
     "nbtutor-solution"
    ]
   },
   "outputs": [
    {
     "data": {
      "text/html": [
       "<div>\n",
       "<style scoped>\n",
       "    .dataframe tbody tr th:only-of-type {\n",
       "        vertical-align: middle;\n",
       "    }\n",
       "\n",
       "    .dataframe tbody tr th {\n",
       "        vertical-align: top;\n",
       "    }\n",
       "\n",
       "    .dataframe thead th {\n",
       "        text-align: right;\n",
       "    }\n",
       "</style>\n",
       "<table border=\"1\" class=\"dataframe\">\n",
       "  <thead>\n",
       "    <tr style=\"text-align: right;\">\n",
       "      <th></th>\n",
       "      <th>id</th>\n",
       "      <th>district_name</th>\n",
       "      <th>arrondissement</th>\n",
       "      <th>population</th>\n",
       "      <th>area</th>\n",
       "    </tr>\n",
       "  </thead>\n",
       "  <tbody>\n",
       "    <tr>\n",
       "      <th>0</th>\n",
       "      <td>1</td>\n",
       "      <td>St-Germain-l'Auxerrois</td>\n",
       "      <td>1</td>\n",
       "      <td>1672</td>\n",
       "      <td>8.690007e+05</td>\n",
       "    </tr>\n",
       "    <tr>\n",
       "      <th>1</th>\n",
       "      <td>2</td>\n",
       "      <td>Halles</td>\n",
       "      <td>1</td>\n",
       "      <td>8984</td>\n",
       "      <td>4.124585e+05</td>\n",
       "    </tr>\n",
       "    <tr>\n",
       "      <th>2</th>\n",
       "      <td>3</td>\n",
       "      <td>Palais-Royal</td>\n",
       "      <td>1</td>\n",
       "      <td>3195</td>\n",
       "      <td>2.736968e+05</td>\n",
       "    </tr>\n",
       "    <tr>\n",
       "      <th>3</th>\n",
       "      <td>4</td>\n",
       "      <td>Place-Vendôme</td>\n",
       "      <td>1</td>\n",
       "      <td>3044</td>\n",
       "      <td>2.694568e+05</td>\n",
       "    </tr>\n",
       "    <tr>\n",
       "      <th>4</th>\n",
       "      <td>5</td>\n",
       "      <td>Gaillon</td>\n",
       "      <td>2</td>\n",
       "      <td>1345</td>\n",
       "      <td>1.880122e+05</td>\n",
       "    </tr>\n",
       "    <tr>\n",
       "      <th>...</th>\n",
       "      <td>...</td>\n",
       "      <td>...</td>\n",
       "      <td>...</td>\n",
       "      <td>...</td>\n",
       "      <td>...</td>\n",
       "    </tr>\n",
       "    <tr>\n",
       "      <th>75</th>\n",
       "      <td>76</td>\n",
       "      <td>Combat</td>\n",
       "      <td>19</td>\n",
       "      <td>38988</td>\n",
       "      <td>1.294988e+06</td>\n",
       "    </tr>\n",
       "    <tr>\n",
       "      <th>76</th>\n",
       "      <td>77</td>\n",
       "      <td>Belleville</td>\n",
       "      <td>20</td>\n",
       "      <td>35773</td>\n",
       "      <td>8.065686e+05</td>\n",
       "    </tr>\n",
       "    <tr>\n",
       "      <th>77</th>\n",
       "      <td>78</td>\n",
       "      <td>Saint-Fargeau</td>\n",
       "      <td>20</td>\n",
       "      <td>42087</td>\n",
       "      <td>1.486971e+06</td>\n",
       "    </tr>\n",
       "    <tr>\n",
       "      <th>78</th>\n",
       "      <td>79</td>\n",
       "      <td>Père-Lachaise</td>\n",
       "      <td>20</td>\n",
       "      <td>42332</td>\n",
       "      <td>1.599002e+06</td>\n",
       "    </tr>\n",
       "    <tr>\n",
       "      <th>79</th>\n",
       "      <td>80</td>\n",
       "      <td>Charonne</td>\n",
       "      <td>20</td>\n",
       "      <td>62901</td>\n",
       "      <td>2.090904e+06</td>\n",
       "    </tr>\n",
       "  </tbody>\n",
       "</table>\n",
       "<p>80 rows × 5 columns</p>\n",
       "</div>"
      ],
      "text/plain": [
       "    id           district_name  arrondissement  population          area\n",
       "0    1  St-Germain-l'Auxerrois               1        1672  8.690007e+05\n",
       "1    2                  Halles               1        8984  4.124585e+05\n",
       "2    3            Palais-Royal               1        3195  2.736968e+05\n",
       "3    4           Place-Vendôme               1        3044  2.694568e+05\n",
       "4    5                 Gaillon               2        1345  1.880122e+05\n",
       "..  ..                     ...             ...         ...           ...\n",
       "75  76                  Combat              19       38988  1.294988e+06\n",
       "76  77              Belleville              20       35773  8.065686e+05\n",
       "77  78           Saint-Fargeau              20       42087  1.486971e+06\n",
       "78  79           Père-Lachaise              20       42332  1.599002e+06\n",
       "79  80                Charonne              20       62901  2.090904e+06\n",
       "\n",
       "[80 rows x 5 columns]"
      ]
     },
     "execution_count": 31,
     "metadata": {},
     "output_type": "execute_result"
    }
   ],
   "source": [
    "districts"
   ]
  },
  {
   "cell_type": "code",
   "execution_count": 32,
   "metadata": {
    "collapsed": false,
    "jupyter": {
     "outputs_hidden": false
    },
    "tags": [
     "nbtutor-solution"
    ]
   },
   "outputs": [
    {
     "data": {
      "text/html": [
       "<div>\n",
       "<style scoped>\n",
       "    .dataframe tbody tr th:only-of-type {\n",
       "        vertical-align: middle;\n",
       "    }\n",
       "\n",
       "    .dataframe tbody tr th {\n",
       "        vertical-align: top;\n",
       "    }\n",
       "\n",
       "    .dataframe thead th {\n",
       "        text-align: right;\n",
       "    }\n",
       "</style>\n",
       "<table border=\"1\" class=\"dataframe\">\n",
       "  <thead>\n",
       "    <tr style=\"text-align: right;\">\n",
       "      <th></th>\n",
       "      <th>id</th>\n",
       "      <th>district_name</th>\n",
       "      <th>arrondissement</th>\n",
       "      <th>population</th>\n",
       "      <th>area</th>\n",
       "    </tr>\n",
       "  </thead>\n",
       "  <tbody>\n",
       "    <tr>\n",
       "      <th>0</th>\n",
       "      <td>1</td>\n",
       "      <td>St-Germain-l'Auxerrois</td>\n",
       "      <td>1</td>\n",
       "      <td>1672</td>\n",
       "      <td>869000.664583</td>\n",
       "    </tr>\n",
       "    <tr>\n",
       "      <th>1</th>\n",
       "      <td>2</td>\n",
       "      <td>Halles</td>\n",
       "      <td>1</td>\n",
       "      <td>8984</td>\n",
       "      <td>412458.496338</td>\n",
       "    </tr>\n",
       "    <tr>\n",
       "      <th>2</th>\n",
       "      <td>3</td>\n",
       "      <td>Palais-Royal</td>\n",
       "      <td>1</td>\n",
       "      <td>3195</td>\n",
       "      <td>273696.793306</td>\n",
       "    </tr>\n",
       "    <tr>\n",
       "      <th>3</th>\n",
       "      <td>4</td>\n",
       "      <td>Place-Vendôme</td>\n",
       "      <td>1</td>\n",
       "      <td>3044</td>\n",
       "      <td>269456.780605</td>\n",
       "    </tr>\n",
       "    <tr>\n",
       "      <th>4</th>\n",
       "      <td>5</td>\n",
       "      <td>Gaillon</td>\n",
       "      <td>2</td>\n",
       "      <td>1345</td>\n",
       "      <td>188012.203855</td>\n",
       "    </tr>\n",
       "  </tbody>\n",
       "</table>\n",
       "</div>"
      ],
      "text/plain": [
       "   id           district_name  arrondissement  population           area\n",
       "0   1  St-Germain-l'Auxerrois               1        1672  869000.664583\n",
       "1   2                  Halles               1        8984  412458.496338\n",
       "2   3            Palais-Royal               1        3195  273696.793306\n",
       "3   4           Place-Vendôme               1        3044  269456.780605\n",
       "4   5                 Gaillon               2        1345  188012.203855"
      ]
     },
     "execution_count": 32,
     "metadata": {},
     "output_type": "execute_result"
    }
   ],
   "source": [
    "districts.head()"
   ]
  },
  {
   "cell_type": "markdown",
   "metadata": {},
   "source": [
    "<div class=\"alert alert-success\">\n",
    "\n",
    "**EXERCISE**:\n",
    "\n",
    "* What is the average population number of the districts?\n",
    "* And what is the median?\n",
    "\n",
    "<details>\n",
    "  <summary>Hints</summary>\n",
    "\n",
    "* The average of a column can be calculated with the `mean()` method.\n",
    "* Selecting a single column uses the \"square bracket\" notation `df['colname']`.\n",
    "\n",
    "</details>\n",
    "    \n",
    "</div>"
   ]
  },
  {
   "cell_type": "code",
   "execution_count": 33,
   "metadata": {
    "collapsed": false,
    "jupyter": {
     "outputs_hidden": false
    },
    "tags": [
     "nbtutor-solution"
    ]
   },
   "outputs": [
    {
     "data": {
      "text/plain": [
       "0      1672\n",
       "1      8984\n",
       "2      3195\n",
       "3      3044\n",
       "4      1345\n",
       "      ...  \n",
       "75    38988\n",
       "76    35773\n",
       "77    42087\n",
       "78    42332\n",
       "79    62901\n",
       "Name: population, Length: 80, dtype: int64"
      ]
     },
     "execution_count": 33,
     "metadata": {},
     "output_type": "execute_result"
    }
   ],
   "source": [
    "districts['population']"
   ]
  },
  {
   "cell_type": "code",
   "execution_count": 34,
   "metadata": {
    "collapsed": false,
    "jupyter": {
     "outputs_hidden": false
    },
    "tags": [
     "nbtutor-solution"
    ]
   },
   "outputs": [
    {
     "data": {
      "text/plain": [
       "np.float64(26573.1375)"
      ]
     },
     "execution_count": 34,
     "metadata": {},
     "output_type": "execute_result"
    }
   ],
   "source": [
    "districts['population'].mean()"
   ]
  },
  {
   "cell_type": "code",
   "execution_count": 35,
   "metadata": {
    "collapsed": false,
    "jupyter": {
     "outputs_hidden": false
    },
    "tags": [
     "nbtutor-solution"
    ]
   },
   "outputs": [
    {
     "data": {
      "text/plain": [
       "np.float64(21418.5)"
      ]
     },
     "execution_count": 35,
     "metadata": {},
     "output_type": "execute_result"
    }
   ],
   "source": [
    "districts['population'].median()"
   ]
  },
  {
   "cell_type": "markdown",
   "metadata": {},
   "source": [
    "<div class=\"alert alert-success\">\n",
    "\n",
    "**EXERCISE**:\n",
    "\n",
    "* What is the maximum area of the districts?\n",
    "* The area column is expressed in m². What is the maximum area in km² ?\n",
    "* And can you also calculate in the area in km² for the full column?\n",
    "\n",
    "<details>\n",
    "  <summary>Hints</summary>\n",
    "\n",
    "* The maximum of a column can be calculated with the `max()` method.\n",
    "* The division operator is `/`, and if we want to take the power of 2 we can use `10**2` (so not `10^2` as you might expect from other languages!).\n",
    "* Operations on a Series are *element-wise*. For example, to add a number to each element of the Series `s`, we can do `s + 2`.\n",
    "    \n",
    "</details>\n",
    "    \n",
    "</div>"
   ]
  },
  {
   "cell_type": "code",
   "execution_count": 36,
   "metadata": {
    "collapsed": false,
    "jupyter": {
     "outputs_hidden": false
    },
    "tags": [
     "nbtutor-solution"
    ]
   },
   "outputs": [
    {
     "data": {
      "text/plain": [
       "np.float64(7205014.420161385)"
      ]
     },
     "execution_count": 36,
     "metadata": {},
     "output_type": "execute_result"
    }
   ],
   "source": [
    "districts['area'].max()"
   ]
  },
  {
   "cell_type": "code",
   "execution_count": 37,
   "metadata": {
    "collapsed": false,
    "jupyter": {
     "outputs_hidden": false
    },
    "tags": [
     "nbtutor-solution"
    ]
   },
   "outputs": [
    {
     "data": {
      "text/plain": [
       "np.float64(7.205014420161385)"
      ]
     },
     "execution_count": 37,
     "metadata": {},
     "output_type": "execute_result"
    }
   ],
   "source": [
    "districts['area'].max() / 1000**2  # or / 10**6"
   ]
  },
  {
   "cell_type": "code",
   "execution_count": 38,
   "metadata": {
    "collapsed": false,
    "jupyter": {
     "outputs_hidden": false
    },
    "tags": [
     "nbtutor-solution"
    ]
   },
   "outputs": [
    {
     "data": {
      "text/plain": [
       "0     0.869001\n",
       "1     0.412458\n",
       "2     0.273697\n",
       "3     0.269457\n",
       "4     0.188012\n",
       "        ...   \n",
       "75    1.294988\n",
       "76    0.806569\n",
       "77    1.486971\n",
       "78    1.599002\n",
       "79    2.090904\n",
       "Name: area, Length: 80, dtype: float64"
      ]
     },
     "execution_count": 38,
     "metadata": {},
     "output_type": "execute_result"
    }
   ],
   "source": [
    "districts['area'] / 1000**2"
   ]
  },
  {
   "cell_type": "markdown",
   "metadata": {},
   "source": [
    "<div class=\"alert alert-success\">\n",
    "\n",
    "**EXERCISE**:\n",
    "\n",
    "* Calculate the population density for all districts, expressed in \"inhabitant / km²\". Call the resulting Series `population_density`.\n",
    "* What is the maximum population density?\n",
    "\n",
    "<details>\n",
    "  <summary>Hints</summary>\n",
    "\n",
    "* Dividing two Series objects also works element-wise: the first element of Series 1 divided by the first element of Series 2, the second by the second, etc.\n",
    "\n",
    "</details>\n",
    "    \n",
    "</div>"
   ]
  },
  {
   "cell_type": "code",
   "execution_count": 39,
   "metadata": {
    "collapsed": false,
    "jupyter": {
     "outputs_hidden": false
    },
    "tags": [
     "nbtutor-solution"
    ]
   },
   "outputs": [
    {
     "data": {
      "text/plain": [
       "0      1924.049161\n",
       "1     21781.585492\n",
       "2     11673.501766\n",
       "3     11296.802378\n",
       "4      7153.790937\n",
       "          ...     \n",
       "75    30106.845200\n",
       "76    44352.083591\n",
       "77    28303.838410\n",
       "78    26474.013610\n",
       "79    30083.160559\n",
       "Length: 80, dtype: float64"
      ]
     },
     "execution_count": 39,
     "metadata": {},
     "output_type": "execute_result"
    }
   ],
   "source": [
    "population_density = districts[\"population\"] / (districts[\"area\"] / 1000**2)\n",
    "population_density"
   ]
  },
  {
   "cell_type": "code",
   "execution_count": 40,
   "metadata": {
    "collapsed": false,
    "jupyter": {
     "outputs_hidden": false
    },
    "tags": [
     "nbtutor-solution"
    ]
   },
   "outputs": [
    {
     "data": {
      "text/plain": [
       "np.float64(45472.80292754569)"
      ]
     },
     "execution_count": 40,
     "metadata": {},
     "output_type": "execute_result"
    }
   ],
   "source": [
    "population_density.max()"
   ]
  },
  {
   "cell_type": "markdown",
   "metadata": {},
   "source": [
    "<div class=\"alert alert-success\">\n",
    "\n",
    "**EXERCISE**:\n",
    "\n",
    "* Add the population density as a new column to the `districts` dataframe.\n",
    "\n",
    "<details>\n",
    "  <summary>Hints</summary>\n",
    "\n",
    "* Adding a column to a DataFrame uses similar syntax as selecting one with `[]`. But now we assign values to that column: `df[\"new_colum\"] = values`\n",
    "\n",
    "</details>\n",
    "    \n",
    "</div>"
   ]
  },
  {
   "cell_type": "code",
   "execution_count": 41,
   "metadata": {
    "collapsed": false,
    "jupyter": {
     "outputs_hidden": false
    },
    "tags": [
     "nbtutor-solution"
    ]
   },
   "outputs": [
    {
     "data": {
      "text/html": [
       "<div>\n",
       "<style scoped>\n",
       "    .dataframe tbody tr th:only-of-type {\n",
       "        vertical-align: middle;\n",
       "    }\n",
       "\n",
       "    .dataframe tbody tr th {\n",
       "        vertical-align: top;\n",
       "    }\n",
       "\n",
       "    .dataframe thead th {\n",
       "        text-align: right;\n",
       "    }\n",
       "</style>\n",
       "<table border=\"1\" class=\"dataframe\">\n",
       "  <thead>\n",
       "    <tr style=\"text-align: right;\">\n",
       "      <th></th>\n",
       "      <th>id</th>\n",
       "      <th>district_name</th>\n",
       "      <th>arrondissement</th>\n",
       "      <th>population</th>\n",
       "      <th>area</th>\n",
       "      <th>population_density</th>\n",
       "    </tr>\n",
       "  </thead>\n",
       "  <tbody>\n",
       "    <tr>\n",
       "      <th>0</th>\n",
       "      <td>1</td>\n",
       "      <td>St-Germain-l'Auxerrois</td>\n",
       "      <td>1</td>\n",
       "      <td>1672</td>\n",
       "      <td>869000.664583</td>\n",
       "      <td>1924.049161</td>\n",
       "    </tr>\n",
       "    <tr>\n",
       "      <th>1</th>\n",
       "      <td>2</td>\n",
       "      <td>Halles</td>\n",
       "      <td>1</td>\n",
       "      <td>8984</td>\n",
       "      <td>412458.496338</td>\n",
       "      <td>21781.585492</td>\n",
       "    </tr>\n",
       "    <tr>\n",
       "      <th>2</th>\n",
       "      <td>3</td>\n",
       "      <td>Palais-Royal</td>\n",
       "      <td>1</td>\n",
       "      <td>3195</td>\n",
       "      <td>273696.793306</td>\n",
       "      <td>11673.501766</td>\n",
       "    </tr>\n",
       "    <tr>\n",
       "      <th>3</th>\n",
       "      <td>4</td>\n",
       "      <td>Place-Vendôme</td>\n",
       "      <td>1</td>\n",
       "      <td>3044</td>\n",
       "      <td>269456.780605</td>\n",
       "      <td>11296.802378</td>\n",
       "    </tr>\n",
       "    <tr>\n",
       "      <th>4</th>\n",
       "      <td>5</td>\n",
       "      <td>Gaillon</td>\n",
       "      <td>2</td>\n",
       "      <td>1345</td>\n",
       "      <td>188012.203855</td>\n",
       "      <td>7153.790937</td>\n",
       "    </tr>\n",
       "  </tbody>\n",
       "</table>\n",
       "</div>"
      ],
      "text/plain": [
       "   id           district_name  arrondissement  population           area  \\\n",
       "0   1  St-Germain-l'Auxerrois               1        1672  869000.664583   \n",
       "1   2                  Halles               1        8984  412458.496338   \n",
       "2   3            Palais-Royal               1        3195  273696.793306   \n",
       "3   4           Place-Vendôme               1        3044  269456.780605   \n",
       "4   5                 Gaillon               2        1345  188012.203855   \n",
       "\n",
       "   population_density  \n",
       "0         1924.049161  \n",
       "1        21781.585492  \n",
       "2        11673.501766  \n",
       "3        11296.802378  \n",
       "4         7153.790937  "
      ]
     },
     "execution_count": 41,
     "metadata": {},
     "output_type": "execute_result"
    }
   ],
   "source": [
    "districts['population_density'] = districts[\"population\"] / (districts[\"area\"] / 1000**2)\n",
    "districts.head()"
   ]
  },
  {
   "cell_type": "markdown",
   "metadata": {},
   "source": [
    "<div class=\"alert alert-success\">\n",
    "\n",
    "**EXERCISE**:\n",
    "\n",
    "* Sort the `districts` DataFrame by the population number. Sort in such a way that the districts with the largest population are at the top of the DataFrame (Tip: check the help of the function!)\n",
    "\n",
    "<details>\n",
    "  <summary>Hints</summary>\n",
    "\n",
    "* Sorting values of a Series, of the rows of a DataFrame, can be done with the `sort_values` method.\n",
    "* For sorting a DataFrame by a certain column, specify the column name with the `by=` keyword.\n",
    "* The `ascending` keyword determines if the largest values are sorted at the bottom or at the top of the DataFrame.\n",
    "</details>\n",
    "    \n",
    "</div>"
   ]
  },
  {
   "cell_type": "code",
   "execution_count": 42,
   "metadata": {
    "collapsed": false,
    "jupyter": {
     "outputs_hidden": false
    },
    "tags": [
     "nbtutor-solution"
    ]
   },
   "outputs": [
    {
     "data": {
      "text/html": [
       "<div>\n",
       "<style scoped>\n",
       "    .dataframe tbody tr th:only-of-type {\n",
       "        vertical-align: middle;\n",
       "    }\n",
       "\n",
       "    .dataframe tbody tr th {\n",
       "        vertical-align: top;\n",
       "    }\n",
       "\n",
       "    .dataframe thead th {\n",
       "        text-align: right;\n",
       "    }\n",
       "</style>\n",
       "<table border=\"1\" class=\"dataframe\">\n",
       "  <thead>\n",
       "    <tr style=\"text-align: right;\">\n",
       "      <th></th>\n",
       "      <th>id</th>\n",
       "      <th>district_name</th>\n",
       "      <th>arrondissement</th>\n",
       "      <th>population</th>\n",
       "      <th>area</th>\n",
       "      <th>population_density</th>\n",
       "    </tr>\n",
       "  </thead>\n",
       "  <tbody>\n",
       "    <tr>\n",
       "      <th>56</th>\n",
       "      <td>57</td>\n",
       "      <td>Saint-Lambert</td>\n",
       "      <td>15</td>\n",
       "      <td>82032</td>\n",
       "      <td>2.829202e+06</td>\n",
       "      <td>28994.752912</td>\n",
       "    </tr>\n",
       "    <tr>\n",
       "      <th>49</th>\n",
       "      <td>50</td>\n",
       "      <td>Gare</td>\n",
       "      <td>13</td>\n",
       "      <td>69008</td>\n",
       "      <td>3.044178e+06</td>\n",
       "      <td>22668.848864</td>\n",
       "    </tr>\n",
       "    <tr>\n",
       "      <th>60</th>\n",
       "      <td>61</td>\n",
       "      <td>Auteuil</td>\n",
       "      <td>16</td>\n",
       "      <td>67967</td>\n",
       "      <td>6.383888e+06</td>\n",
       "      <td>10646.647042</td>\n",
       "    </tr>\n",
       "    <tr>\n",
       "      <th>68</th>\n",
       "      <td>69</td>\n",
       "      <td>Grandes-Carrières</td>\n",
       "      <td>18</td>\n",
       "      <td>67152</td>\n",
       "      <td>1.905566e+06</td>\n",
       "      <td>35239.925867</td>\n",
       "    </tr>\n",
       "    <tr>\n",
       "      <th>69</th>\n",
       "      <td>70</td>\n",
       "      <td>Clignancourt</td>\n",
       "      <td>18</td>\n",
       "      <td>64868</td>\n",
       "      <td>1.653715e+06</td>\n",
       "      <td>39225.618453</td>\n",
       "    </tr>\n",
       "    <tr>\n",
       "      <th>...</th>\n",
       "      <td>...</td>\n",
       "      <td>...</td>\n",
       "      <td>...</td>\n",
       "      <td>...</td>\n",
       "      <td>...</td>\n",
       "      <td>...</td>\n",
       "    </tr>\n",
       "    <tr>\n",
       "      <th>2</th>\n",
       "      <td>3</td>\n",
       "      <td>Palais-Royal</td>\n",
       "      <td>1</td>\n",
       "      <td>3195</td>\n",
       "      <td>2.736968e+05</td>\n",
       "      <td>11673.501766</td>\n",
       "    </tr>\n",
       "    <tr>\n",
       "      <th>3</th>\n",
       "      <td>4</td>\n",
       "      <td>Place-Vendôme</td>\n",
       "      <td>1</td>\n",
       "      <td>3044</td>\n",
       "      <td>2.694568e+05</td>\n",
       "      <td>11296.802378</td>\n",
       "    </tr>\n",
       "    <tr>\n",
       "      <th>5</th>\n",
       "      <td>6</td>\n",
       "      <td>Vivienne</td>\n",
       "      <td>2</td>\n",
       "      <td>2917</td>\n",
       "      <td>2.435508e+05</td>\n",
       "      <td>11976.968878</td>\n",
       "    </tr>\n",
       "    <tr>\n",
       "      <th>0</th>\n",
       "      <td>1</td>\n",
       "      <td>St-Germain-l'Auxerrois</td>\n",
       "      <td>1</td>\n",
       "      <td>1672</td>\n",
       "      <td>8.690007e+05</td>\n",
       "      <td>1924.049161</td>\n",
       "    </tr>\n",
       "    <tr>\n",
       "      <th>4</th>\n",
       "      <td>5</td>\n",
       "      <td>Gaillon</td>\n",
       "      <td>2</td>\n",
       "      <td>1345</td>\n",
       "      <td>1.880122e+05</td>\n",
       "      <td>7153.790937</td>\n",
       "    </tr>\n",
       "  </tbody>\n",
       "</table>\n",
       "<p>80 rows × 6 columns</p>\n",
       "</div>"
      ],
      "text/plain": [
       "    id           district_name  arrondissement  population          area  \\\n",
       "56  57           Saint-Lambert              15       82032  2.829202e+06   \n",
       "49  50                    Gare              13       69008  3.044178e+06   \n",
       "60  61                 Auteuil              16       67967  6.383888e+06   \n",
       "68  69       Grandes-Carrières              18       67152  1.905566e+06   \n",
       "69  70            Clignancourt              18       64868  1.653715e+06   \n",
       "..  ..                     ...             ...         ...           ...   \n",
       "2    3            Palais-Royal               1        3195  2.736968e+05   \n",
       "3    4           Place-Vendôme               1        3044  2.694568e+05   \n",
       "5    6                Vivienne               2        2917  2.435508e+05   \n",
       "0    1  St-Germain-l'Auxerrois               1        1672  8.690007e+05   \n",
       "4    5                 Gaillon               2        1345  1.880122e+05   \n",
       "\n",
       "    population_density  \n",
       "56        28994.752912  \n",
       "49        22668.848864  \n",
       "60        10646.647042  \n",
       "68        35239.925867  \n",
       "69        39225.618453  \n",
       "..                 ...  \n",
       "2         11673.501766  \n",
       "3         11296.802378  \n",
       "5         11976.968878  \n",
       "0          1924.049161  \n",
       "4          7153.790937  \n",
       "\n",
       "[80 rows x 6 columns]"
      ]
     },
     "execution_count": 42,
     "metadata": {},
     "output_type": "execute_result"
    }
   ],
   "source": [
    "districts.sort_values(by=\"population\", ascending=False)"
   ]
  },
  {
   "cell_type": "markdown",
   "metadata": {},
   "source": [
    "<div class=\"alert alert-success\">\n",
    "\n",
    "**EXERCISE**:\n",
    "\n",
    "* Select all rows for the districts of the 3rd arrondissement.\n",
    "* For this subset, what is the total population of the arrondissement?\n",
    "    \n",
    "</div>"
   ]
  },
  {
   "cell_type": "code",
   "execution_count": 43,
   "metadata": {
    "collapsed": false,
    "jupyter": {
     "outputs_hidden": false
    },
    "tags": [
     "nbtutor-solution"
    ]
   },
   "outputs": [
    {
     "data": {
      "text/html": [
       "<div>\n",
       "<style scoped>\n",
       "    .dataframe tbody tr th:only-of-type {\n",
       "        vertical-align: middle;\n",
       "    }\n",
       "\n",
       "    .dataframe tbody tr th {\n",
       "        vertical-align: top;\n",
       "    }\n",
       "\n",
       "    .dataframe thead th {\n",
       "        text-align: right;\n",
       "    }\n",
       "</style>\n",
       "<table border=\"1\" class=\"dataframe\">\n",
       "  <thead>\n",
       "    <tr style=\"text-align: right;\">\n",
       "      <th></th>\n",
       "      <th>id</th>\n",
       "      <th>district_name</th>\n",
       "      <th>arrondissement</th>\n",
       "      <th>population</th>\n",
       "      <th>area</th>\n",
       "      <th>population_density</th>\n",
       "    </tr>\n",
       "  </thead>\n",
       "  <tbody>\n",
       "    <tr>\n",
       "      <th>8</th>\n",
       "      <td>9</td>\n",
       "      <td>Arts-et-Metiers</td>\n",
       "      <td>3</td>\n",
       "      <td>9560</td>\n",
       "      <td>318087.740461</td>\n",
       "      <td>30054.600615</td>\n",
       "    </tr>\n",
       "    <tr>\n",
       "      <th>9</th>\n",
       "      <td>10</td>\n",
       "      <td>Enfants-Rouges</td>\n",
       "      <td>3</td>\n",
       "      <td>8562</td>\n",
       "      <td>271750.323943</td>\n",
       "      <td>31506.862166</td>\n",
       "    </tr>\n",
       "    <tr>\n",
       "      <th>10</th>\n",
       "      <td>11</td>\n",
       "      <td>Archives</td>\n",
       "      <td>3</td>\n",
       "      <td>8609</td>\n",
       "      <td>367728.386875</td>\n",
       "      <td>23411.301132</td>\n",
       "    </tr>\n",
       "    <tr>\n",
       "      <th>11</th>\n",
       "      <td>12</td>\n",
       "      <td>Sainte-Avoie</td>\n",
       "      <td>3</td>\n",
       "      <td>7501</td>\n",
       "      <td>213316.351515</td>\n",
       "      <td>35163.736613</td>\n",
       "    </tr>\n",
       "  </tbody>\n",
       "</table>\n",
       "</div>"
      ],
      "text/plain": [
       "    id    district_name  arrondissement  population           area  \\\n",
       "8    9  Arts-et-Metiers               3        9560  318087.740461   \n",
       "9   10   Enfants-Rouges               3        8562  271750.323943   \n",
       "10  11         Archives               3        8609  367728.386875   \n",
       "11  12     Sainte-Avoie               3        7501  213316.351515   \n",
       "\n",
       "    population_density  \n",
       "8         30054.600615  \n",
       "9         31506.862166  \n",
       "10        23411.301132  \n",
       "11        35163.736613  "
      ]
     },
     "execution_count": 43,
     "metadata": {},
     "output_type": "execute_result"
    }
   ],
   "source": [
    "arr3 = districts[districts[\"arrondissement\"] == 3]\n",
    "arr3"
   ]
  },
  {
   "cell_type": "code",
   "execution_count": 44,
   "metadata": {
    "collapsed": false,
    "jupyter": {
     "outputs_hidden": false
    },
    "tags": [
     "nbtutor-solution"
    ]
   },
   "outputs": [
    {
     "data": {
      "text/plain": [
       "np.int64(34232)"
      ]
     },
     "execution_count": 44,
     "metadata": {},
     "output_type": "execute_result"
    }
   ],
   "source": [
    "arr3[\"population\"].sum()"
   ]
  },
  {
   "cell_type": "markdown",
   "metadata": {},
   "source": [
    "<div class=\"alert alert-success\">\n",
    "\n",
    "**EXERCISE**:\n",
    "\n",
    "* Select the districts with a population of more than 50.000 inhabitants.\n",
    "\n",
    "</div>"
   ]
  },
  {
   "cell_type": "code",
   "execution_count": 45,
   "metadata": {
    "collapsed": false,
    "jupyter": {
     "outputs_hidden": false
    },
    "tags": [
     "nbtutor-solution"
    ]
   },
   "outputs": [
    {
     "data": {
      "text/html": [
       "<div>\n",
       "<style scoped>\n",
       "    .dataframe tbody tr th:only-of-type {\n",
       "        vertical-align: middle;\n",
       "    }\n",
       "\n",
       "    .dataframe tbody tr th {\n",
       "        vertical-align: top;\n",
       "    }\n",
       "\n",
       "    .dataframe thead th {\n",
       "        text-align: right;\n",
       "    }\n",
       "</style>\n",
       "<table border=\"1\" class=\"dataframe\">\n",
       "  <thead>\n",
       "    <tr style=\"text-align: right;\">\n",
       "      <th></th>\n",
       "      <th>id</th>\n",
       "      <th>district_name</th>\n",
       "      <th>arrondissement</th>\n",
       "      <th>population</th>\n",
       "      <th>area</th>\n",
       "      <th>population_density</th>\n",
       "    </tr>\n",
       "  </thead>\n",
       "  <tbody>\n",
       "    <tr>\n",
       "      <th>45</th>\n",
       "      <td>46</td>\n",
       "      <td>Picpus</td>\n",
       "      <td>12</td>\n",
       "      <td>62947</td>\n",
       "      <td>7.205014e+06</td>\n",
       "      <td>8736.554340</td>\n",
       "    </tr>\n",
       "    <tr>\n",
       "      <th>49</th>\n",
       "      <td>50</td>\n",
       "      <td>Gare</td>\n",
       "      <td>13</td>\n",
       "      <td>69008</td>\n",
       "      <td>3.044178e+06</td>\n",
       "      <td>22668.848864</td>\n",
       "    </tr>\n",
       "    <tr>\n",
       "      <th>50</th>\n",
       "      <td>51</td>\n",
       "      <td>Maison-Blanche</td>\n",
       "      <td>13</td>\n",
       "      <td>64797</td>\n",
       "      <td>2.231506e+06</td>\n",
       "      <td>29037.343809</td>\n",
       "    </tr>\n",
       "    <tr>\n",
       "      <th>55</th>\n",
       "      <td>56</td>\n",
       "      <td>Plaisance</td>\n",
       "      <td>14</td>\n",
       "      <td>57229</td>\n",
       "      <td>1.784948e+06</td>\n",
       "      <td>32062.000823</td>\n",
       "    </tr>\n",
       "    <tr>\n",
       "      <th>56</th>\n",
       "      <td>57</td>\n",
       "      <td>Saint-Lambert</td>\n",
       "      <td>15</td>\n",
       "      <td>82032</td>\n",
       "      <td>2.829202e+06</td>\n",
       "      <td>28994.752912</td>\n",
       "    </tr>\n",
       "    <tr>\n",
       "      <th>60</th>\n",
       "      <td>61</td>\n",
       "      <td>Auteuil</td>\n",
       "      <td>16</td>\n",
       "      <td>67967</td>\n",
       "      <td>6.383888e+06</td>\n",
       "      <td>10646.647042</td>\n",
       "    </tr>\n",
       "    <tr>\n",
       "      <th>68</th>\n",
       "      <td>69</td>\n",
       "      <td>Grandes-Carrières</td>\n",
       "      <td>18</td>\n",
       "      <td>67152</td>\n",
       "      <td>1.905566e+06</td>\n",
       "      <td>35239.925867</td>\n",
       "    </tr>\n",
       "    <tr>\n",
       "      <th>69</th>\n",
       "      <td>70</td>\n",
       "      <td>Clignancourt</td>\n",
       "      <td>18</td>\n",
       "      <td>64868</td>\n",
       "      <td>1.653715e+06</td>\n",
       "      <td>39225.618453</td>\n",
       "    </tr>\n",
       "    <tr>\n",
       "      <th>72</th>\n",
       "      <td>73</td>\n",
       "      <td>Villette</td>\n",
       "      <td>19</td>\n",
       "      <td>53650</td>\n",
       "      <td>1.285705e+06</td>\n",
       "      <td>41728.078744</td>\n",
       "    </tr>\n",
       "    <tr>\n",
       "      <th>74</th>\n",
       "      <td>75</td>\n",
       "      <td>Amérique</td>\n",
       "      <td>19</td>\n",
       "      <td>55365</td>\n",
       "      <td>1.835720e+06</td>\n",
       "      <td>30159.823779</td>\n",
       "    </tr>\n",
       "    <tr>\n",
       "      <th>79</th>\n",
       "      <td>80</td>\n",
       "      <td>Charonne</td>\n",
       "      <td>20</td>\n",
       "      <td>62901</td>\n",
       "      <td>2.090904e+06</td>\n",
       "      <td>30083.160559</td>\n",
       "    </tr>\n",
       "  </tbody>\n",
       "</table>\n",
       "</div>"
      ],
      "text/plain": [
       "    id      district_name  arrondissement  population          area  \\\n",
       "45  46             Picpus              12       62947  7.205014e+06   \n",
       "49  50               Gare              13       69008  3.044178e+06   \n",
       "50  51     Maison-Blanche              13       64797  2.231506e+06   \n",
       "55  56          Plaisance              14       57229  1.784948e+06   \n",
       "56  57      Saint-Lambert              15       82032  2.829202e+06   \n",
       "60  61            Auteuil              16       67967  6.383888e+06   \n",
       "68  69  Grandes-Carrières              18       67152  1.905566e+06   \n",
       "69  70       Clignancourt              18       64868  1.653715e+06   \n",
       "72  73           Villette              19       53650  1.285705e+06   \n",
       "74  75           Amérique              19       55365  1.835720e+06   \n",
       "79  80           Charonne              20       62901  2.090904e+06   \n",
       "\n",
       "    population_density  \n",
       "45         8736.554340  \n",
       "49        22668.848864  \n",
       "50        29037.343809  \n",
       "55        32062.000823  \n",
       "56        28994.752912  \n",
       "60        10646.647042  \n",
       "68        35239.925867  \n",
       "69        39225.618453  \n",
       "72        41728.078744  \n",
       "74        30159.823779  \n",
       "79        30083.160559  "
      ]
     },
     "execution_count": 45,
     "metadata": {},
     "output_type": "execute_result"
    }
   ],
   "source": [
    "districts[districts['population'] > 50000]"
   ]
  },
  {
   "cell_type": "markdown",
   "metadata": {},
   "source": [
    "<div class=\"alert alert-success\">\n",
    "\n",
    "**EXERCISE**:\n",
    "\n",
    "* How many districts have a population of more than 50.000 inhabitants?\n",
    "\n",
    "<details>\n",
    "  <summary>Hints</summary>\n",
    "\n",
    "* The number of rows of a DataFrame can be obtained with the `len()` function (not a method!). Or alternatively with the `shape` attribute.\n",
    "* Alternatively, we can also get this number based on the *condition*: counting the number of True values is the same as taking the sum of this condition.\n",
    "</details>\n",
    "    \n",
    "</div>"
   ]
  },
  {
   "cell_type": "code",
   "execution_count": 46,
   "metadata": {
    "collapsed": false,
    "jupyter": {
     "outputs_hidden": false
    },
    "tags": [
     "nbtutor-solution"
    ]
   },
   "outputs": [
    {
     "data": {
      "text/plain": [
       "11"
      ]
     },
     "execution_count": 46,
     "metadata": {},
     "output_type": "execute_result"
    }
   ],
   "source": [
    "subset = districts[districts['population'] > 50000]\n",
    "len(subset)"
   ]
  },
  {
   "cell_type": "code",
   "execution_count": 47,
   "metadata": {
    "collapsed": false,
    "jupyter": {
     "outputs_hidden": false
    },
    "tags": [
     "nbtutor-solution"
    ]
   },
   "outputs": [
    {
     "data": {
      "text/plain": [
       "(11, 6)"
      ]
     },
     "execution_count": 47,
     "metadata": {},
     "output_type": "execute_result"
    }
   ],
   "source": [
    "subset.shape"
   ]
  },
  {
   "cell_type": "code",
   "execution_count": 48,
   "metadata": {
    "collapsed": false,
    "jupyter": {
     "outputs_hidden": false
    },
    "tags": [
     "nbtutor-solution"
    ]
   },
   "outputs": [
    {
     "data": {
      "text/plain": [
       "np.int64(11)"
      ]
     },
     "execution_count": 48,
     "metadata": {},
     "output_type": "execute_result"
    }
   ],
   "source": [
    "(districts['population'] > 50000).sum()"
   ]
  },
  {
   "cell_type": "markdown",
   "metadata": {},
   "source": [
    "## Plotting: visual exploration of data"
   ]
  },
  {
   "cell_type": "markdown",
   "metadata": {},
   "source": [
    "The **`plot`** method can be used to quickly visualize the data in different ways:"
   ]
  },
  {
   "cell_type": "code",
   "execution_count": 49,
   "metadata": {
    "collapsed": false,
    "jupyter": {
     "outputs_hidden": false
    }
   },
   "outputs": [
    {
     "data": {
      "image/png": "[encoded data removed]",
      "text/plain": [
       "<Figure size 640x480 with 1 Axes>"
      ]
     },
     "metadata": {},
     "output_type": "display_data"
    }
   ],
   "source": [
    "countries['pop_est'].plot();"
   ]
  },
  {
   "cell_type": "markdown",
   "metadata": {},
   "source": [
    "The default is a *line* plot. However, for this dataset, that's a not very useful plot type. With the `.plot.<kind>` accessor (or the `kind` keyword), you can specify other plot types:"
   ]
  },
  {
   "cell_type": "code",
   "execution_count": 50,
   "metadata": {
    "collapsed": false,
    "jupyter": {
     "outputs_hidden": false
    }
   },
   "outputs": [
    {
     "data": {
      "text/plain": [
       "<Axes: ylabel='Frequency'>"
      ]
     },
     "execution_count": 50,
     "metadata": {},
     "output_type": "execute_result"
    },
    {
     "data": {
      "image/png": "[encoded data removed]",
      "text/plain": [
       "<Figure size 640x480 with 1 Axes>"
      ]
     },
     "metadata": {},
     "output_type": "display_data"
    }
   ],
   "source": [
    "countries['pop_est'].plot.hist()  # or: .plot(kind='hist')"
   ]
  },
  {
   "cell_type": "markdown",
   "metadata": {},
   "source": [
    "This is still not the best plot. This is due to a few countries with a very large population."
   ]
  },
  {
   "cell_type": "markdown",
   "metadata": {},
   "source": [
    "### A `matplotlib` primer\n",
    "\n",
    "The plot produced by pandas with the `.plot()` method, is actually created using the `matplotlib` package.\n",
    "\n",
    "[Matplotlib](http://matplotlib.org/) is a Python package used widely throughout the scientific Python community to produce high quality 2D publication graphics. It transparently supports a wide range of output formats including PNG (and other raster formats), PostScript/EPS, PDF and SVG and has interfaces for all of the major desktop GUI (graphical user interface) toolkits. It is a great package with lots of options.\n",
    "\n",
    "However, matplotlib is is also a *huge* library, with which you can plot anything you want and customize every detail of the plot ... if you know how to do this. \n",
    "\n",
    "So in this course, we are mostly going to use matplotlib through a convenience layer, such as the pandas `.plot()` method, or a helper library like `seaborn`. But you'll some basic matplotlib techniques as well."
   ]
  },
  {
   "cell_type": "markdown",
   "metadata": {},
   "source": [
    "Matplotlib comes with a convenience sub-package called ``pyplot`` which, for consistency with the wider matplotlib community, should always be imported as ``plt``:"
   ]
  },
  {
   "cell_type": "code",
   "execution_count": 51,
   "metadata": {},
   "outputs": [],
   "source": [
    "import matplotlib.pyplot as plt"
   ]
  },
  {
   "cell_type": "markdown",
   "metadata": {},
   "source": [
    "The object returned by the pandas `plot()` method is called an **Axes**"
   ]
  },
  {
   "cell_type": "code",
   "execution_count": 52,
   "metadata": {
    "collapsed": false,
    "jupyter": {
     "outputs_hidden": false
    }
   },
   "outputs": [
    {
     "data": {
      "image/png": "[encoded data removed]",
      "text/plain": [
       "<Figure size 640x480 with 1 Axes>"
      ]
     },
     "metadata": {},
     "output_type": "display_data"
    }
   ],
   "source": [
    "ax = countries['pop_est'].plot.hist()"
   ]
  },
  {
   "cell_type": "code",
   "execution_count": 53,
   "metadata": {
    "collapsed": false,
    "jupyter": {
     "outputs_hidden": false
    }
   },
   "outputs": [
    {
     "data": {
      "text/plain": [
       "matplotlib.axes._axes.Axes"
      ]
     },
     "execution_count": 53,
     "metadata": {},
     "output_type": "execute_result"
    }
   ],
   "source": [
    "type(ax)"
   ]
  },
  {
   "cell_type": "markdown",
   "metadata": {},
   "source": [
    "The Axes represents the \"data space\" of a typical plot: where data is being plotted, and typically having an x and y *axis*. The Axes is part of a **Figure** (in the above, the Figure has one Axes, or subplot, but you can also create a Figure with multiple Axes or subplots). \n",
    "\n",
    "We can also create this Figure and Axes manually:"
   ]
  },
  {
   "cell_type": "code",
   "execution_count": 54,
   "metadata": {
    "collapsed": false,
    "jupyter": {
     "outputs_hidden": false
    }
   },
   "outputs": [
    {
     "data": {
      "image/png": "[encoded data removed]",
      "text/plain": [
       "<Figure size 640x480 with 1 Axes>"
      ]
     },
     "metadata": {},
     "output_type": "display_data"
    }
   ],
   "source": [
    "fig, axs = plt.subplots()  # ncols="
   ]
  },
  {
   "cell_type": "markdown",
   "metadata": {},
   "source": [
    "and then specify the Axes to plot on with pandas:"
   ]
  },
  {
   "cell_type": "code",
   "execution_count": 55,
   "metadata": {
    "collapsed": false,
    "jupyter": {
     "outputs_hidden": false
    }
   },
   "outputs": [
    {
     "data": {
      "text/plain": [
       "<Axes: ylabel='Frequency'>"
      ]
     },
     "execution_count": 55,
     "metadata": {},
     "output_type": "execute_result"
    },
    {
     "data": {
      "image/png": "[encoded data removed]",
      "text/plain": [
       "<Figure size 640x480 with 1 Axes>"
      ]
     },
     "metadata": {},
     "output_type": "display_data"
    }
   ],
   "source": [
    "fig, axs = plt.subplots()\n",
    "countries['pop_est'].plot.hist(ax=axs)"
   ]
  },
  {
   "cell_type": "markdown",
   "metadata": {},
   "source": [
    "The Axes object can then be used for further customization:"
   ]
  },
  {
   "cell_type": "code",
   "execution_count": 56,
   "metadata": {
    "collapsed": false,
    "jupyter": {
     "outputs_hidden": false
    }
   },
   "outputs": [
    {
     "data": {
      "text/plain": [
       "(0.0, 500000000.0)"
      ]
     },
     "execution_count": 56,
     "metadata": {},
     "output_type": "execute_result"
    },
    {
     "data": {
      "image/png": "[encoded data removed]",
      "text/plain": [
       "<Figure size 640x480 with 1 Axes>"
      ]
     },
     "metadata": {},
     "output_type": "display_data"
    }
   ],
   "source": [
    "fig, axs = plt.subplots()\n",
    "countries['pop_est'].plot.hist(ax=axs, bins=50)\n",
    "axs.set_title(\"Countries of the world\")\n",
    "axs.set_xlabel(\"Population\")\n",
    "axs.set_xlim(0, 5e8)"
   ]
  },
  {
   "cell_type": "markdown",
   "metadata": {},
   "source": [
    "An example of another package built on top of matplotlib is **`seaborn`** (https://seaborn.pydata.org/). It provides a high-level interface for a set of statistical graphics.\n",
    "\n",
    "For example, we can make a boxplot of the GDP per capita for each continent:"
   ]
  },
  {
   "cell_type": "code",
   "execution_count": 57,
   "metadata": {},
   "outputs": [],
   "source": [
    "import seaborn"
   ]
  },
  {
   "cell_type": "code",
   "execution_count": 58,
   "metadata": {
    "collapsed": false,
    "jupyter": {
     "outputs_hidden": false
    }
   },
   "outputs": [
    {
     "data": {
      "text/plain": [
       "<Axes: xlabel='gdp_capita', ylabel='continent'>"
      ]
     },
     "execution_count": 58,
     "metadata": {},
     "output_type": "execute_result"
    },
    {
     "data": {
      "image/png": "[encoded data removed]",
      "text/plain": [
       "<Figure size 800x800 with 1 Axes>"
      ]
     },
     "metadata": {},
     "output_type": "display_data"
    }
   ],
   "source": [
    "fig, ax = plt.subplots(figsize=(8, 8))\n",
    "seaborn.boxplot(y=\"continent\", x=\"gdp_capita\", color=\"C0\", data=countries, ax=ax)  # violinplot"
   ]
  },
  {
   "cell_type": "markdown",
   "metadata": {},
   "source": [
    "This is only an ultra short intro to matplotlib. In the course materials, you can find another notebook with some more details ([visualization-01-matplotlib.ipynb](visualization-01-matplotlib.ipynb#An-small-cheat-sheet-reference-for-some-common-elements))."
   ]
  },
  {
   "cell_type": "markdown",
   "metadata": {},
   "source": [
    "<div class=\"alert alert-info\" style=\"font-size:18px\">\n",
    "\n",
    "**Galleries!**\n",
    "\n",
    "Galleries are great to get inspiration, see the plot you want, and check the code how it is created:\n",
    "    \n",
    "* [matplotlib gallery](https://matplotlib.org/stable/gallery/) is an important resource to start from\n",
    "* [seaborn gallery](https://seaborn.pydata.org/examples/index.html)\n",
    "* The Python Graph Gallery (https://python-graph-gallery.com/)\n",
    "\n",
    "</div>"
   ]
  },
  {
   "cell_type": "markdown",
   "metadata": {},
   "source": [
    "## Aggregating statistics grouped by category\n",
    "\n",
    "<img align=\"center\" src=\"../img/pandas/06_groupby1.svg\">"
   ]
  },
  {
   "cell_type": "markdown",
   "metadata": {},
   "source": [
    "Assume we want to know the total population number of a certain continent. Using the boolean indexing and aggregation we learned above, we can do:"
   ]
  },
  {
   "cell_type": "code",
   "execution_count": 59,
   "metadata": {},
   "outputs": [],
   "source": [
    "africa = countries[countries['continent'] == \"Africa\"]"
   ]
  },
  {
   "cell_type": "code",
   "execution_count": 60,
   "metadata": {
    "collapsed": false,
    "jupyter": {
     "outputs_hidden": false
    }
   },
   "outputs": [
    {
     "data": {
      "text/plain": [
       "np.int64(1219176238)"
      ]
     },
     "execution_count": 60,
     "metadata": {},
     "output_type": "execute_result"
    }
   ],
   "source": [
    "africa['pop_est'].sum()"
   ]
  },
  {
   "cell_type": "markdown",
   "metadata": {},
   "source": [
    "To calculate this for all continents, we could repeat the above for each continent. However, this quickly becomes tedious, and can directly be performed by pandas:"
   ]
  },
  {
   "cell_type": "code",
   "execution_count": 61,
   "metadata": {
    "collapsed": false,
    "jupyter": {
     "outputs_hidden": false
    }
   },
   "outputs": [
    {
     "data": {
      "text/plain": [
       "continent\n",
       "Africa           1219176238\n",
       "Asia             4389144868\n",
       "Europe            746398461\n",
       "North America     573042112\n",
       "Oceania            36782844\n",
       "South America     418540749\n",
       "Name: pop_est, dtype: int64"
      ]
     },
     "execution_count": 61,
     "metadata": {},
     "output_type": "execute_result"
    }
   ],
   "source": [
    "countries.groupby('continent')['pop_est'].sum()"
   ]
  },
  {
   "cell_type": "markdown",
   "metadata": {},
   "source": [
    "Calculating a given statistic (e.g. sum of the population) for each category in a column (e.g. the different continents) is a common pattern. The `groupby()` method is used to support this type of operations. More general, this fits in the more general split-apply-combine pattern:\n",
    "\n",
    "* **Split** the data into groups\n",
    "* **Apply** a function to each group independently\n",
    "* **Combine** the results into a data structure\n",
    "\n",
    "The apply and combine steps are typically done together in pandas."
   ]
  },
  {
   "cell_type": "code",
   "execution_count": 62,
   "metadata": {
    "collapsed": false,
    "jupyter": {
     "outputs_hidden": false
    }
   },
   "outputs": [
    {
     "data": {
      "text/plain": [
       "<Axes: ylabel='continent'>"
      ]
     },
     "execution_count": 62,
     "metadata": {},
     "output_type": "execute_result"
    },
    {
     "data": {
      "image/png": "[encoded data removed]",
      "text/plain": [
       "<Figure size 640x480 with 1 Axes>"
      ]
     },
     "metadata": {},
     "output_type": "display_data"
    }
   ],
   "source": [
    "countries.groupby('continent')['pop_est'].sum().plot.barh()  # or plot(kind=\"barh\")"
   ]
  },
  {
   "cell_type": "markdown",
   "metadata": {},
   "source": [
    "## Let's practice! (part II)"
   ]
  },
  {
   "cell_type": "code",
   "execution_count": 63,
   "metadata": {},
   "outputs": [],
   "source": [
    "districts = pd.read_csv(\"data/paris_districts.csv\")\n",
    "stations = pd.read_csv(\"data/paris_bike_stations.csv\")"
   ]
  },
  {
   "cell_type": "code",
   "execution_count": 64,
   "metadata": {
    "collapsed": false,
    "jupyter": {
     "outputs_hidden": false
    }
   },
   "outputs": [
    {
     "data": {
      "text/html": [
       "<div>\n",
       "<style scoped>\n",
       "    .dataframe tbody tr th:only-of-type {\n",
       "        vertical-align: middle;\n",
       "    }\n",
       "\n",
       "    .dataframe tbody tr th {\n",
       "        vertical-align: top;\n",
       "    }\n",
       "\n",
       "    .dataframe thead th {\n",
       "        text-align: right;\n",
       "    }\n",
       "</style>\n",
       "<table border=\"1\" class=\"dataframe\">\n",
       "  <thead>\n",
       "    <tr style=\"text-align: right;\">\n",
       "      <th></th>\n",
       "      <th>id</th>\n",
       "      <th>district_name</th>\n",
       "      <th>arrondissement</th>\n",
       "      <th>population</th>\n",
       "      <th>area</th>\n",
       "    </tr>\n",
       "  </thead>\n",
       "  <tbody>\n",
       "    <tr>\n",
       "      <th>0</th>\n",
       "      <td>1</td>\n",
       "      <td>St-Germain-l'Auxerrois</td>\n",
       "      <td>1</td>\n",
       "      <td>1672</td>\n",
       "      <td>869000.664583</td>\n",
       "    </tr>\n",
       "    <tr>\n",
       "      <th>1</th>\n",
       "      <td>2</td>\n",
       "      <td>Halles</td>\n",
       "      <td>1</td>\n",
       "      <td>8984</td>\n",
       "      <td>412458.496338</td>\n",
       "    </tr>\n",
       "    <tr>\n",
       "      <th>2</th>\n",
       "      <td>3</td>\n",
       "      <td>Palais-Royal</td>\n",
       "      <td>1</td>\n",
       "      <td>3195</td>\n",
       "      <td>273696.793306</td>\n",
       "    </tr>\n",
       "    <tr>\n",
       "      <th>3</th>\n",
       "      <td>4</td>\n",
       "      <td>Place-Vendôme</td>\n",
       "      <td>1</td>\n",
       "      <td>3044</td>\n",
       "      <td>269456.780605</td>\n",
       "    </tr>\n",
       "    <tr>\n",
       "      <th>4</th>\n",
       "      <td>5</td>\n",
       "      <td>Gaillon</td>\n",
       "      <td>2</td>\n",
       "      <td>1345</td>\n",
       "      <td>188012.203855</td>\n",
       "    </tr>\n",
       "  </tbody>\n",
       "</table>\n",
       "</div>"
      ],
      "text/plain": [
       "   id           district_name  arrondissement  population           area\n",
       "0   1  St-Germain-l'Auxerrois               1        1672  869000.664583\n",
       "1   2                  Halles               1        8984  412458.496338\n",
       "2   3            Palais-Royal               1        3195  273696.793306\n",
       "3   4           Place-Vendôme               1        3044  269456.780605\n",
       "4   5                 Gaillon               2        1345  188012.203855"
      ]
     },
     "execution_count": 64,
     "metadata": {},
     "output_type": "execute_result"
    }
   ],
   "source": [
    "districts.head()"
   ]
  },
  {
   "cell_type": "code",
   "execution_count": 65,
   "metadata": {
    "collapsed": false,
    "jupyter": {
     "outputs_hidden": false
    }
   },
   "outputs": [
    {
     "data": {
      "text/html": [
       "<div>\n",
       "<style scoped>\n",
       "    .dataframe tbody tr th:only-of-type {\n",
       "        vertical-align: middle;\n",
       "    }\n",
       "\n",
       "    .dataframe tbody tr th {\n",
       "        vertical-align: top;\n",
       "    }\n",
       "\n",
       "    .dataframe thead th {\n",
       "        text-align: right;\n",
       "    }\n",
       "</style>\n",
       "<table border=\"1\" class=\"dataframe\">\n",
       "  <thead>\n",
       "    <tr style=\"text-align: right;\">\n",
       "      <th></th>\n",
       "      <th>name</th>\n",
       "      <th>bike_stands</th>\n",
       "      <th>available_bikes</th>\n",
       "      <th>lat</th>\n",
       "      <th>lon</th>\n",
       "      <th>arrondissement</th>\n",
       "    </tr>\n",
       "  </thead>\n",
       "  <tbody>\n",
       "    <tr>\n",
       "      <th>0</th>\n",
       "      <td>14002 - RASPAIL QUINET</td>\n",
       "      <td>44</td>\n",
       "      <td>4</td>\n",
       "      <td>48.839199</td>\n",
       "      <td>2.329555</td>\n",
       "      <td>14.0</td>\n",
       "    </tr>\n",
       "    <tr>\n",
       "      <th>1</th>\n",
       "      <td>20503 - COURS DE VINCENNES PYRÉNÉES</td>\n",
       "      <td>21</td>\n",
       "      <td>3</td>\n",
       "      <td>48.847725</td>\n",
       "      <td>2.405907</td>\n",
       "      <td>20.0</td>\n",
       "    </tr>\n",
       "    <tr>\n",
       "      <th>2</th>\n",
       "      <td>20011 - PYRÉNÉES-DAGORNO</td>\n",
       "      <td>21</td>\n",
       "      <td>0</td>\n",
       "      <td>48.855501</td>\n",
       "      <td>2.405169</td>\n",
       "      <td>20.0</td>\n",
       "    </tr>\n",
       "    <tr>\n",
       "      <th>3</th>\n",
       "      <td>31008 - VINCENNES (MONTREUIL)</td>\n",
       "      <td>56</td>\n",
       "      <td>0</td>\n",
       "      <td>48.857702</td>\n",
       "      <td>2.437369</td>\n",
       "      <td>NaN</td>\n",
       "    </tr>\n",
       "    <tr>\n",
       "      <th>4</th>\n",
       "      <td>43006 - MINIMES (VINCENNES)</td>\n",
       "      <td>28</td>\n",
       "      <td>27</td>\n",
       "      <td>48.841487</td>\n",
       "      <td>2.430793</td>\n",
       "      <td>NaN</td>\n",
       "    </tr>\n",
       "  </tbody>\n",
       "</table>\n",
       "</div>"
      ],
      "text/plain": [
       "                                  name  bike_stands  available_bikes  \\\n",
       "0               14002 - RASPAIL QUINET           44                4   \n",
       "1  20503 - COURS DE VINCENNES PYRÉNÉES           21                3   \n",
       "2             20011 - PYRÉNÉES-DAGORNO           21                0   \n",
       "3        31008 - VINCENNES (MONTREUIL)           56                0   \n",
       "4          43006 - MINIMES (VINCENNES)           28               27   \n",
       "\n",
       "         lat       lon  arrondissement  \n",
       "0  48.839199  2.329555            14.0  \n",
       "1  48.847725  2.405907            20.0  \n",
       "2  48.855501  2.405169            20.0  \n",
       "3  48.857702  2.437369             NaN  \n",
       "4  48.841487  2.430793             NaN  "
      ]
     },
     "execution_count": 65,
     "metadata": {},
     "output_type": "execute_result"
    }
   ],
   "source": [
    "stations.head()"
   ]
  },
  {
   "cell_type": "markdown",
   "metadata": {},
   "source": [
    "<div class=\"alert alert-success\">\n",
    "<b>EXERCISE</b>:\n",
    "\n",
    "* Plot the population distribution of the Paris districts\n",
    "\n",
    "</div>"
   ]
  },
  {
   "cell_type": "code",
   "execution_count": 66,
   "metadata": {
    "collapsed": false,
    "jupyter": {
     "outputs_hidden": false
    },
    "tags": [
     "nbtutor-solution"
    ]
   },
   "outputs": [
    {
     "data": {
      "text/plain": [
       "<Axes: ylabel='Frequency'>"
      ]
     },
     "execution_count": 66,
     "metadata": {},
     "output_type": "execute_result"
    },
    {
     "data": {
      "image/png": "[encoded data removed]",
      "text/plain": [
       "<Figure size 640x480 with 1 Axes>"
      ]
     },
     "metadata": {},
     "output_type": "display_data"
    }
   ],
   "source": [
    "districts['population'].plot.hist()  # or .plot(kind=\"hist\")"
   ]
  },
  {
   "cell_type": "markdown",
   "metadata": {},
   "source": [
    "<div class=\"alert alert-success\">\n",
    "\n",
    "<b>EXERCISE</b>:\n",
    "\n",
    "* Using groupby(), calculate the total population of each of the arrondissements.\n",
    "\n",
    "</div>"
   ]
  },
  {
   "cell_type": "code",
   "execution_count": 67,
   "metadata": {
    "collapsed": false,
    "jupyter": {
     "outputs_hidden": false
    },
    "tags": [
     "nbtutor-solution"
    ]
   },
   "outputs": [
    {
     "data": {
      "text/plain": [
       "arrondissement\n",
       "1      16895\n",
       "2      19640\n",
       "3      34232\n",
       "4      30671\n",
       "5      58841\n",
       "6      44903\n",
       "7      56988\n",
       "8      39303\n",
       "9      55783\n",
       "10     89685\n",
       "11    149166\n",
       "12    136662\n",
       "13    171577\n",
       "14    132822\n",
       "15    225467\n",
       "16    161817\n",
       "17    161138\n",
       "18    184581\n",
       "19    172587\n",
       "20    183093\n",
       "Name: population, dtype: int64"
      ]
     },
     "execution_count": 67,
     "metadata": {},
     "output_type": "execute_result"
    }
   ],
   "source": [
    "districts.groupby('arrondissement')['population'].sum()"
   ]
  },
  {
   "cell_type": "markdown",
   "metadata": {},
   "source": [
    "<div class=\"alert alert-success\">\n",
    "\n",
    "<b>EXERCISE</b>:\n",
    "\n",
    "* Using the bike stations dataset (`stations`), make a figure with a histogram of both the total bike stands and available bikes.\n",
    "\n",
    "<details>\n",
    "<summary>Hints</summary>\n",
    "\n",
    "* You can plot both histograms on top of each other using transparancy (`alpha` keyword) to see both.\n",
    "* Use the `plt.subplots()` function to create a figure and axes object. You can then use this axes object to pass to `.plot.hist(..)` to plot two histograms on the same axes.\n",
    "</details>\n",
    "\n",
    "</div>"
   ]
  },
  {
   "cell_type": "code",
   "execution_count": 68,
   "metadata": {
    "collapsed": false,
    "jupyter": {
     "outputs_hidden": false
    },
    "tags": [
     "nbtutor-solution"
    ]
   },
   "outputs": [
    {
     "data": {
      "image/png": "[encoded data removed]",
      "text/plain": [
       "<Figure size 640x480 with 1 Axes>"
      ]
     },
     "metadata": {},
     "output_type": "display_data"
    }
   ],
   "source": [
    "fig, ax = plt.subplots()\n",
    "stations[\"bike_stands\"].plot.hist(ax=ax, alpha=.5, label=\"Total bike stands\")\n",
    "stations[\"available_bikes\"].plot.hist(ax=ax, alpha=.5, label=\"Available bikes\")\n",
    "ax.legend()\n",
    "ax.grid()"
   ]
  },
  {
   "cell_type": "markdown",
   "metadata": {},
   "source": [
    "<div class=\"alert alert-success\">\n",
    "\n",
    "<b>EXERCISE</b>:\n",
    "\n",
    "* Using `seaborn`, make a boxplot of the number of bike stands (in the `stations` dataframe) per arrondissement.\n",
    "\n",
    "</div>"
   ]
  },
  {
   "cell_type": "code",
   "execution_count": 69,
   "metadata": {
    "tags": [
     "nbtutor-solution"
    ]
   },
   "outputs": [],
   "source": [
    "import seaborn"
   ]
  },
  {
   "cell_type": "code",
   "execution_count": 70,
   "metadata": {
    "collapsed": false,
    "jupyter": {
     "outputs_hidden": false
    },
    "tags": [
     "nbtutor-solution"
    ]
   },
   "outputs": [
    {
     "data": {
      "text/plain": [
       "<Axes: xlabel='arrondissement', ylabel='bike_stands'>"
      ]
     },
     "execution_count": 70,
     "metadata": {},
     "output_type": "execute_result"
    },
    {
     "data": {
      "image/png": "[encoded data removed]",
      "text/plain": [
       "<Figure size 640x480 with 1 Axes>"
      ]
     },
     "metadata": {},
     "output_type": "display_data"
    }
   ],
   "source": [
    "seaborn.boxplot(x=\"arrondissement\", y=\"bike_stands\", data=stations)"
   ]
  },
  {
   "cell_type": "markdown",
   "metadata": {},
   "source": [
    "## Other useful things to know!\n",
    "\n",
    "This notebook is only an intro. The pandas library provides a lot more functionality for working with tabular data, which we won't be cover in this course."
   ]
  },
  {
   "cell_type": "markdown",
   "metadata": {},
   "source": [
    "### Counting values"
   ]
  },
  {
   "cell_type": "markdown",
   "metadata": {},
   "source": [
    "Do you want to know what the unique values are of a column, and how many times each value occurs? Use the `value_counts()` method:"
   ]
  },
  {
   "cell_type": "code",
   "execution_count": 71,
   "metadata": {
    "collapsed": false,
    "jupyter": {
     "outputs_hidden": false
    }
   },
   "outputs": [
    {
     "data": {
      "text/plain": [
       "continent\n",
       "Africa           51\n",
       "Asia             47\n",
       "Europe           39\n",
       "North America    18\n",
       "South America    13\n",
       "Oceania           7\n",
       "Name: count, dtype: int64"
      ]
     },
     "execution_count": 71,
     "metadata": {},
     "output_type": "execute_result"
    }
   ],
   "source": [
    "countries['continent'].value_counts()"
   ]
  },
  {
   "cell_type": "markdown",
   "metadata": {},
   "source": [
    "### Selecting a specific value of the DataFrame"
   ]
  },
  {
   "cell_type": "markdown",
   "metadata": {},
   "source": [
    "To access a specific value of a DataFrame, we can use the `.loc` method passing the (row label, column name):"
   ]
  },
  {
   "cell_type": "code",
   "execution_count": 72,
   "metadata": {
    "collapsed": false,
    "jupyter": {
     "outputs_hidden": false
    }
   },
   "outputs": [
    {
     "data": {
      "text/plain": [
       "'Fiji'"
      ]
     },
     "execution_count": 72,
     "metadata": {},
     "output_type": "execute_result"
    }
   ],
   "source": [
    "countries.loc[0, \"name\"]"
   ]
  },
  {
   "cell_type": "markdown",
   "metadata": {},
   "source": [
    "### Merging two dataframes"
   ]
  },
  {
   "cell_type": "markdown",
   "metadata": {},
   "source": [
    "Pandas provides several ways to combine different DataFrames. If there is a common column on which you want to match both DataFrames, we can use the `pd.merge()` function:"
   ]
  },
  {
   "cell_type": "code",
   "execution_count": 73,
   "metadata": {},
   "outputs": [],
   "source": [
    "cities = pd.read_csv(\"data/cities.csv\")"
   ]
  },
  {
   "cell_type": "code",
   "execution_count": 74,
   "metadata": {
    "collapsed": false,
    "jupyter": {
     "outputs_hidden": false
    }
   },
   "outputs": [
    {
     "data": {
      "text/html": [
       "<div>\n",
       "<style scoped>\n",
       "    .dataframe tbody tr th:only-of-type {\n",
       "        vertical-align: middle;\n",
       "    }\n",
       "\n",
       "    .dataframe tbody tr th {\n",
       "        vertical-align: top;\n",
       "    }\n",
       "\n",
       "    .dataframe thead th {\n",
       "        text-align: right;\n",
       "    }\n",
       "</style>\n",
       "<table border=\"1\" class=\"dataframe\">\n",
       "  <thead>\n",
       "    <tr style=\"text-align: right;\">\n",
       "      <th></th>\n",
       "      <th>iso_a3</th>\n",
       "      <th>name</th>\n",
       "      <th>population</th>\n",
       "      <th>latitude</th>\n",
       "      <th>longitude</th>\n",
       "    </tr>\n",
       "  </thead>\n",
       "  <tbody>\n",
       "    <tr>\n",
       "      <th>0</th>\n",
       "      <td>VAT</td>\n",
       "      <td>Vatican City</td>\n",
       "      <td>832</td>\n",
       "      <td>41.900012</td>\n",
       "      <td>12.447808</td>\n",
       "    </tr>\n",
       "    <tr>\n",
       "      <th>1</th>\n",
       "      <td>SMR</td>\n",
       "      <td>San Marino</td>\n",
       "      <td>29579</td>\n",
       "      <td>43.917150</td>\n",
       "      <td>12.466670</td>\n",
       "    </tr>\n",
       "    <tr>\n",
       "      <th>2</th>\n",
       "      <td>LIE</td>\n",
       "      <td>Vaduz</td>\n",
       "      <td>36281</td>\n",
       "      <td>47.133724</td>\n",
       "      <td>9.516669</td>\n",
       "    </tr>\n",
       "    <tr>\n",
       "      <th>3</th>\n",
       "      <td>SWZ</td>\n",
       "      <td>Lobamba</td>\n",
       "      <td>9782</td>\n",
       "      <td>-26.466667</td>\n",
       "      <td>31.199997</td>\n",
       "    </tr>\n",
       "    <tr>\n",
       "      <th>4</th>\n",
       "      <td>LUX</td>\n",
       "      <td>Luxembourg</td>\n",
       "      <td>107260</td>\n",
       "      <td>49.611660</td>\n",
       "      <td>6.130003</td>\n",
       "    </tr>\n",
       "  </tbody>\n",
       "</table>\n",
       "</div>"
      ],
      "text/plain": [
       "  iso_a3          name  population   latitude  longitude\n",
       "0    VAT  Vatican City         832  41.900012  12.447808\n",
       "1    SMR    San Marino       29579  43.917150  12.466670\n",
       "2    LIE         Vaduz       36281  47.133724   9.516669\n",
       "3    SWZ       Lobamba        9782 -26.466667  31.199997\n",
       "4    LUX    Luxembourg      107260  49.611660   6.130003"
      ]
     },
     "execution_count": 74,
     "metadata": {},
     "output_type": "execute_result"
    }
   ],
   "source": [
    "cities.head()"
   ]
  },
  {
   "cell_type": "code",
   "execution_count": 75,
   "metadata": {
    "collapsed": false,
    "jupyter": {
     "outputs_hidden": false
    }
   },
   "outputs": [
    {
     "data": {
      "text/html": [
       "<div>\n",
       "<style scoped>\n",
       "    .dataframe tbody tr th:only-of-type {\n",
       "        vertical-align: middle;\n",
       "    }\n",
       "\n",
       "    .dataframe tbody tr th {\n",
       "        vertical-align: top;\n",
       "    }\n",
       "\n",
       "    .dataframe thead th {\n",
       "        text-align: right;\n",
       "    }\n",
       "</style>\n",
       "<table border=\"1\" class=\"dataframe\">\n",
       "  <thead>\n",
       "    <tr style=\"text-align: right;\">\n",
       "      <th></th>\n",
       "      <th>iso_a3</th>\n",
       "      <th>name</th>\n",
       "      <th>pop_est</th>\n",
       "      <th>gdp_md_est</th>\n",
       "      <th>continent</th>\n",
       "      <th>gdp_capita</th>\n",
       "    </tr>\n",
       "  </thead>\n",
       "  <tbody>\n",
       "    <tr>\n",
       "      <th>0</th>\n",
       "      <td>FJI</td>\n",
       "      <td>Fiji</td>\n",
       "      <td>920938</td>\n",
       "      <td>8374.0</td>\n",
       "      <td>Oceania</td>\n",
       "      <td>0.009093</td>\n",
       "    </tr>\n",
       "    <tr>\n",
       "      <th>1</th>\n",
       "      <td>TZA</td>\n",
       "      <td>Tanzania</td>\n",
       "      <td>53950935</td>\n",
       "      <td>150600.0</td>\n",
       "      <td>Africa</td>\n",
       "      <td>0.002791</td>\n",
       "    </tr>\n",
       "    <tr>\n",
       "      <th>2</th>\n",
       "      <td>ESH</td>\n",
       "      <td>W. Sahara</td>\n",
       "      <td>603253</td>\n",
       "      <td>906.5</td>\n",
       "      <td>Africa</td>\n",
       "      <td>0.001503</td>\n",
       "    </tr>\n",
       "    <tr>\n",
       "      <th>3</th>\n",
       "      <td>CAN</td>\n",
       "      <td>Canada</td>\n",
       "      <td>35623680</td>\n",
       "      <td>1674000.0</td>\n",
       "      <td>North America</td>\n",
       "      <td>0.046991</td>\n",
       "    </tr>\n",
       "    <tr>\n",
       "      <th>4</th>\n",
       "      <td>USA</td>\n",
       "      <td>United States of America</td>\n",
       "      <td>326625791</td>\n",
       "      <td>18560000.0</td>\n",
       "      <td>North America</td>\n",
       "      <td>0.056823</td>\n",
       "    </tr>\n",
       "  </tbody>\n",
       "</table>\n",
       "</div>"
      ],
      "text/plain": [
       "  iso_a3                      name    pop_est  gdp_md_est      continent  \\\n",
       "0    FJI                      Fiji     920938      8374.0        Oceania   \n",
       "1    TZA                  Tanzania   53950935    150600.0         Africa   \n",
       "2    ESH                 W. Sahara     603253       906.5         Africa   \n",
       "3    CAN                    Canada   35623680   1674000.0  North America   \n",
       "4    USA  United States of America  326625791  18560000.0  North America   \n",
       "\n",
       "   gdp_capita  \n",
       "0    0.009093  \n",
       "1    0.002791  \n",
       "2    0.001503  \n",
       "3    0.046991  \n",
       "4    0.056823  "
      ]
     },
     "execution_count": 75,
     "metadata": {},
     "output_type": "execute_result"
    }
   ],
   "source": [
    "countries.head()"
   ]
  },
  {
   "cell_type": "markdown",
   "metadata": {},
   "source": [
    "Both DataFrames have the `'iso_a3'` column with a 3-character code of the country. Based on this, we can add information about the country to the cities dataset:"
   ]
  },
  {
   "cell_type": "code",
   "execution_count": 76,
   "metadata": {
    "collapsed": false,
    "jupyter": {
     "outputs_hidden": false
    }
   },
   "outputs": [
    {
     "data": {
      "text/html": [
       "<div>\n",
       "<style scoped>\n",
       "    .dataframe tbody tr th:only-of-type {\n",
       "        vertical-align: middle;\n",
       "    }\n",
       "\n",
       "    .dataframe tbody tr th {\n",
       "        vertical-align: top;\n",
       "    }\n",
       "\n",
       "    .dataframe thead th {\n",
       "        text-align: right;\n",
       "    }\n",
       "</style>\n",
       "<table border=\"1\" class=\"dataframe\">\n",
       "  <thead>\n",
       "    <tr style=\"text-align: right;\">\n",
       "      <th></th>\n",
       "      <th>iso_a3</th>\n",
       "      <th>name_x</th>\n",
       "      <th>population</th>\n",
       "      <th>latitude</th>\n",
       "      <th>longitude</th>\n",
       "      <th>name_y</th>\n",
       "      <th>pop_est</th>\n",
       "      <th>gdp_md_est</th>\n",
       "      <th>continent</th>\n",
       "      <th>gdp_capita</th>\n",
       "    </tr>\n",
       "  </thead>\n",
       "  <tbody>\n",
       "    <tr>\n",
       "      <th>0</th>\n",
       "      <td>SWZ</td>\n",
       "      <td>Lobamba</td>\n",
       "      <td>9782</td>\n",
       "      <td>-26.466667</td>\n",
       "      <td>31.199997</td>\n",
       "      <td>eSwatini</td>\n",
       "      <td>1467152</td>\n",
       "      <td>11060.0</td>\n",
       "      <td>Africa</td>\n",
       "      <td>0.007538</td>\n",
       "    </tr>\n",
       "    <tr>\n",
       "      <th>1</th>\n",
       "      <td>LUX</td>\n",
       "      <td>Luxembourg</td>\n",
       "      <td>107260</td>\n",
       "      <td>49.611660</td>\n",
       "      <td>6.130003</td>\n",
       "      <td>Luxembourg</td>\n",
       "      <td>594130</td>\n",
       "      <td>58740.0</td>\n",
       "      <td>Europe</td>\n",
       "      <td>0.098867</td>\n",
       "    </tr>\n",
       "    <tr>\n",
       "      <th>2</th>\n",
       "      <td>TTO</td>\n",
       "      <td>Port-of-Spain</td>\n",
       "      <td>294934</td>\n",
       "      <td>10.651997</td>\n",
       "      <td>-61.517031</td>\n",
       "      <td>Trinidad and Tobago</td>\n",
       "      <td>1218208</td>\n",
       "      <td>43570.0</td>\n",
       "      <td>North America</td>\n",
       "      <td>0.035766</td>\n",
       "    </tr>\n",
       "    <tr>\n",
       "      <th>3</th>\n",
       "      <td>RWA</td>\n",
       "      <td>Kigali</td>\n",
       "      <td>860000</td>\n",
       "      <td>-1.953590</td>\n",
       "      <td>30.060532</td>\n",
       "      <td>Rwanda</td>\n",
       "      <td>11901484</td>\n",
       "      <td>21970.0</td>\n",
       "      <td>Africa</td>\n",
       "      <td>0.001846</td>\n",
       "    </tr>\n",
       "    <tr>\n",
       "      <th>4</th>\n",
       "      <td>SWZ</td>\n",
       "      <td>Mbabane</td>\n",
       "      <td>90138</td>\n",
       "      <td>-26.316651</td>\n",
       "      <td>31.133335</td>\n",
       "      <td>eSwatini</td>\n",
       "      <td>1467152</td>\n",
       "      <td>11060.0</td>\n",
       "      <td>Africa</td>\n",
       "      <td>0.007538</td>\n",
       "    </tr>\n",
       "    <tr>\n",
       "      <th>...</th>\n",
       "      <td>...</td>\n",
       "      <td>...</td>\n",
       "      <td>...</td>\n",
       "      <td>...</td>\n",
       "      <td>...</td>\n",
       "      <td>...</td>\n",
       "      <td>...</td>\n",
       "      <td>...</td>\n",
       "      <td>...</td>\n",
       "      <td>...</td>\n",
       "    </tr>\n",
       "    <tr>\n",
       "      <th>204</th>\n",
       "      <td>CHL</td>\n",
       "      <td>Santiago</td>\n",
       "      <td>5720000</td>\n",
       "      <td>-33.450014</td>\n",
       "      <td>-70.667041</td>\n",
       "      <td>Chile</td>\n",
       "      <td>17789267</td>\n",
       "      <td>436100.0</td>\n",
       "      <td>South America</td>\n",
       "      <td>0.024515</td>\n",
       "    </tr>\n",
       "    <tr>\n",
       "      <th>205</th>\n",
       "      <td>IND</td>\n",
       "      <td>Kolkata</td>\n",
       "      <td>14787000</td>\n",
       "      <td>22.494969</td>\n",
       "      <td>88.324676</td>\n",
       "      <td>India</td>\n",
       "      <td>1281935911</td>\n",
       "      <td>8721000.0</td>\n",
       "      <td>Asia</td>\n",
       "      <td>0.006803</td>\n",
       "    </tr>\n",
       "    <tr>\n",
       "      <th>206</th>\n",
       "      <td>BRA</td>\n",
       "      <td>Rio de Janeiro</td>\n",
       "      <td>11748000</td>\n",
       "      <td>-22.925023</td>\n",
       "      <td>-43.225021</td>\n",
       "      <td>Brazil</td>\n",
       "      <td>207353391</td>\n",
       "      <td>3081000.0</td>\n",
       "      <td>South America</td>\n",
       "      <td>0.014859</td>\n",
       "    </tr>\n",
       "    <tr>\n",
       "      <th>207</th>\n",
       "      <td>BRA</td>\n",
       "      <td>São Paulo</td>\n",
       "      <td>18845000</td>\n",
       "      <td>-23.558680</td>\n",
       "      <td>-46.625020</td>\n",
       "      <td>Brazil</td>\n",
       "      <td>207353391</td>\n",
       "      <td>3081000.0</td>\n",
       "      <td>South America</td>\n",
       "      <td>0.014859</td>\n",
       "    </tr>\n",
       "    <tr>\n",
       "      <th>208</th>\n",
       "      <td>AUS</td>\n",
       "      <td>Sydney</td>\n",
       "      <td>4630000</td>\n",
       "      <td>-33.920011</td>\n",
       "      <td>151.185180</td>\n",
       "      <td>Australia</td>\n",
       "      <td>23232413</td>\n",
       "      <td>1189000.0</td>\n",
       "      <td>Oceania</td>\n",
       "      <td>0.051178</td>\n",
       "    </tr>\n",
       "  </tbody>\n",
       "</table>\n",
       "<p>209 rows × 10 columns</p>\n",
       "</div>"
      ],
      "text/plain": [
       "    iso_a3          name_x  population   latitude   longitude  \\\n",
       "0      SWZ         Lobamba        9782 -26.466667   31.199997   \n",
       "1      LUX      Luxembourg      107260  49.611660    6.130003   \n",
       "2      TTO   Port-of-Spain      294934  10.651997  -61.517031   \n",
       "3      RWA          Kigali      860000  -1.953590   30.060532   \n",
       "4      SWZ         Mbabane       90138 -26.316651   31.133335   \n",
       "..     ...             ...         ...        ...         ...   \n",
       "204    CHL        Santiago     5720000 -33.450014  -70.667041   \n",
       "205    IND         Kolkata    14787000  22.494969   88.324676   \n",
       "206    BRA  Rio de Janeiro    11748000 -22.925023  -43.225021   \n",
       "207    BRA       São Paulo    18845000 -23.558680  -46.625020   \n",
       "208    AUS          Sydney     4630000 -33.920011  151.185180   \n",
       "\n",
       "                  name_y     pop_est  gdp_md_est      continent  gdp_capita  \n",
       "0               eSwatini     1467152     11060.0         Africa    0.007538  \n",
       "1             Luxembourg      594130     58740.0         Europe    0.098867  \n",
       "2    Trinidad and Tobago     1218208     43570.0  North America    0.035766  \n",
       "3                 Rwanda    11901484     21970.0         Africa    0.001846  \n",
       "4               eSwatini     1467152     11060.0         Africa    0.007538  \n",
       "..                   ...         ...         ...            ...         ...  \n",
       "204                Chile    17789267    436100.0  South America    0.024515  \n",
       "205                India  1281935911   8721000.0           Asia    0.006803  \n",
       "206               Brazil   207353391   3081000.0  South America    0.014859  \n",
       "207               Brazil   207353391   3081000.0  South America    0.014859  \n",
       "208            Australia    23232413   1189000.0        Oceania    0.051178  \n",
       "\n",
       "[209 rows x 10 columns]"
      ]
     },
     "execution_count": 76,
     "metadata": {},
     "output_type": "execute_result"
    }
   ],
   "source": [
    "pd.merge(cities, countries, on=\"iso_a3\")"
   ]
  },
  {
   "cell_type": "markdown",
   "metadata": {},
   "source": [
    "## Towards geospatial data\n",
    "\n",
    "The datasets used in this notebook contain spatial information: data about areas (countries, districts) or point locations (cities, bike stations). But the data itself didn't always explicitly include the the spatial component. For example, we don't know the exact extent of the countries with the dataset used here.\n",
    "\n",
    "With point locations, such as the cities DataFrame, the location is included as two columns:"
   ]
  },
  {
   "cell_type": "code",
   "execution_count": 77,
   "metadata": {
    "collapsed": false,
    "jupyter": {
     "outputs_hidden": false
    }
   },
   "outputs": [
    {
     "data": {
      "text/html": [
       "<div>\n",
       "<style scoped>\n",
       "    .dataframe tbody tr th:only-of-type {\n",
       "        vertical-align: middle;\n",
       "    }\n",
       "\n",
       "    .dataframe tbody tr th {\n",
       "        vertical-align: top;\n",
       "    }\n",
       "\n",
       "    .dataframe thead th {\n",
       "        text-align: right;\n",
       "    }\n",
       "</style>\n",
       "<table border=\"1\" class=\"dataframe\">\n",
       "  <thead>\n",
       "    <tr style=\"text-align: right;\">\n",
       "      <th></th>\n",
       "      <th>iso_a3</th>\n",
       "      <th>name</th>\n",
       "      <th>population</th>\n",
       "      <th>latitude</th>\n",
       "      <th>longitude</th>\n",
       "    </tr>\n",
       "  </thead>\n",
       "  <tbody>\n",
       "    <tr>\n",
       "      <th>0</th>\n",
       "      <td>VAT</td>\n",
       "      <td>Vatican City</td>\n",
       "      <td>832</td>\n",
       "      <td>41.900012</td>\n",
       "      <td>12.447808</td>\n",
       "    </tr>\n",
       "    <tr>\n",
       "      <th>1</th>\n",
       "      <td>SMR</td>\n",
       "      <td>San Marino</td>\n",
       "      <td>29579</td>\n",
       "      <td>43.917150</td>\n",
       "      <td>12.466670</td>\n",
       "    </tr>\n",
       "    <tr>\n",
       "      <th>2</th>\n",
       "      <td>LIE</td>\n",
       "      <td>Vaduz</td>\n",
       "      <td>36281</td>\n",
       "      <td>47.133724</td>\n",
       "      <td>9.516669</td>\n",
       "    </tr>\n",
       "    <tr>\n",
       "      <th>3</th>\n",
       "      <td>SWZ</td>\n",
       "      <td>Lobamba</td>\n",
       "      <td>9782</td>\n",
       "      <td>-26.466667</td>\n",
       "      <td>31.199997</td>\n",
       "    </tr>\n",
       "    <tr>\n",
       "      <th>4</th>\n",
       "      <td>LUX</td>\n",
       "      <td>Luxembourg</td>\n",
       "      <td>107260</td>\n",
       "      <td>49.611660</td>\n",
       "      <td>6.130003</td>\n",
       "    </tr>\n",
       "  </tbody>\n",
       "</table>\n",
       "</div>"
      ],
      "text/plain": [
       "  iso_a3          name  population   latitude  longitude\n",
       "0    VAT  Vatican City         832  41.900012  12.447808\n",
       "1    SMR    San Marino       29579  43.917150  12.466670\n",
       "2    LIE         Vaduz       36281  47.133724   9.516669\n",
       "3    SWZ       Lobamba        9782 -26.466667  31.199997\n",
       "4    LUX    Luxembourg      107260  49.611660   6.130003"
      ]
     },
     "execution_count": 77,
     "metadata": {},
     "output_type": "execute_result"
    }
   ],
   "source": [
    "cities.head()"
   ]
  },
  {
   "cell_type": "markdown",
   "metadata": {},
   "source": [
    "Which allows us to, for example, plot the locations manually:"
   ]
  },
  {
   "cell_type": "code",
   "execution_count": 78,
   "metadata": {
    "collapsed": false,
    "jupyter": {
     "outputs_hidden": false
    }
   },
   "outputs": [
    {
     "data": {
      "text/plain": [
       "<Axes: xlabel='longitude', ylabel='latitude'>"
      ]
     },
     "execution_count": 78,
     "metadata": {},
     "output_type": "execute_result"
    },
    {
     "data": {
      "image/png": "[encoded data removed]",
      "text/plain": [
       "<Figure size 640x480 with 1 Axes>"
      ]
     },
     "metadata": {},
     "output_type": "display_data"
    }
   ],
   "source": [
    "cities.plot.scatter(x=\"longitude\", y=\"latitude\")"
   ]
  },
  {
   "cell_type": "markdown",
   "metadata": {},
   "source": [
    "However, this doesn't enable to *easily* work with those locations and do spatial analyses on them. For that, we are going to introduce a new package: **`geopandas`**.\n",
    "\n",
    "As illustration, we convert the pandas DataFrame with cities into a geopandas GeoDataFrame:"
   ]
  },
  {
   "cell_type": "code",
   "execution_count": 79,
   "metadata": {},
   "outputs": [],
   "source": [
    "import geopandas"
   ]
  },
  {
   "cell_type": "code",
   "execution_count": 80,
   "metadata": {},
   "outputs": [],
   "source": [
    "cities_geo = geopandas.GeoDataFrame(cities, geometry=geopandas.points_from_xy(cities[\"longitude\"], cities[\"latitude\"]))"
   ]
  },
  {
   "cell_type": "code",
   "execution_count": 81,
   "metadata": {
    "collapsed": false,
    "jupyter": {
     "outputs_hidden": false
    }
   },
   "outputs": [
    {
     "data": {
      "text/html": [
       "<div>\n",
       "<style scoped>\n",
       "    .dataframe tbody tr th:only-of-type {\n",
       "        vertical-align: middle;\n",
       "    }\n",
       "\n",
       "    .dataframe tbody tr th {\n",
       "        vertical-align: top;\n",
       "    }\n",
       "\n",
       "    .dataframe thead th {\n",
       "        text-align: right;\n",
       "    }\n",
       "</style>\n",
       "<table border=\"1\" class=\"dataframe\">\n",
       "  <thead>\n",
       "    <tr style=\"text-align: right;\">\n",
       "      <th></th>\n",
       "      <th>iso_a3</th>\n",
       "      <th>name</th>\n",
       "      <th>population</th>\n",
       "      <th>latitude</th>\n",
       "      <th>longitude</th>\n",
       "      <th>geometry</th>\n",
       "    </tr>\n",
       "  </thead>\n",
       "  <tbody>\n",
       "    <tr>\n",
       "      <th>0</th>\n",
       "      <td>VAT</td>\n",
       "      <td>Vatican City</td>\n",
       "      <td>832</td>\n",
       "      <td>41.900012</td>\n",
       "      <td>12.447808</td>\n",
       "      <td>POINT (12.44781 41.90001)</td>\n",
       "    </tr>\n",
       "    <tr>\n",
       "      <th>1</th>\n",
       "      <td>SMR</td>\n",
       "      <td>San Marino</td>\n",
       "      <td>29579</td>\n",
       "      <td>43.917150</td>\n",
       "      <td>12.466670</td>\n",
       "      <td>POINT (12.46667 43.91715)</td>\n",
       "    </tr>\n",
       "    <tr>\n",
       "      <th>2</th>\n",
       "      <td>LIE</td>\n",
       "      <td>Vaduz</td>\n",
       "      <td>36281</td>\n",
       "      <td>47.133724</td>\n",
       "      <td>9.516669</td>\n",
       "      <td>POINT (9.51667 47.13372)</td>\n",
       "    </tr>\n",
       "    <tr>\n",
       "      <th>3</th>\n",
       "      <td>SWZ</td>\n",
       "      <td>Lobamba</td>\n",
       "      <td>9782</td>\n",
       "      <td>-26.466667</td>\n",
       "      <td>31.199997</td>\n",
       "      <td>POINT (31.2 -26.46667)</td>\n",
       "    </tr>\n",
       "    <tr>\n",
       "      <th>4</th>\n",
       "      <td>LUX</td>\n",
       "      <td>Luxembourg</td>\n",
       "      <td>107260</td>\n",
       "      <td>49.611660</td>\n",
       "      <td>6.130003</td>\n",
       "      <td>POINT (6.13 49.61166)</td>\n",
       "    </tr>\n",
       "    <tr>\n",
       "      <th>...</th>\n",
       "      <td>...</td>\n",
       "      <td>...</td>\n",
       "      <td>...</td>\n",
       "      <td>...</td>\n",
       "      <td>...</td>\n",
       "      <td>...</td>\n",
       "    </tr>\n",
       "    <tr>\n",
       "      <th>238</th>\n",
       "      <td>BRA</td>\n",
       "      <td>Rio de Janeiro</td>\n",
       "      <td>11748000</td>\n",
       "      <td>-22.925023</td>\n",
       "      <td>-43.225021</td>\n",
       "      <td>POINT (-43.22502 -22.92502)</td>\n",
       "    </tr>\n",
       "    <tr>\n",
       "      <th>239</th>\n",
       "      <td>BRA</td>\n",
       "      <td>São Paulo</td>\n",
       "      <td>18845000</td>\n",
       "      <td>-23.558680</td>\n",
       "      <td>-46.625020</td>\n",
       "      <td>POINT (-46.62502 -23.55868)</td>\n",
       "    </tr>\n",
       "    <tr>\n",
       "      <th>240</th>\n",
       "      <td>AUS</td>\n",
       "      <td>Sydney</td>\n",
       "      <td>4630000</td>\n",
       "      <td>-33.920011</td>\n",
       "      <td>151.185180</td>\n",
       "      <td>POINT (151.18518 -33.92001)</td>\n",
       "    </tr>\n",
       "    <tr>\n",
       "      <th>241</th>\n",
       "      <td>SGP</td>\n",
       "      <td>Singapore</td>\n",
       "      <td>5183700</td>\n",
       "      <td>1.293033</td>\n",
       "      <td>103.855821</td>\n",
       "      <td>POINT (103.85582 1.29303)</td>\n",
       "    </tr>\n",
       "    <tr>\n",
       "      <th>242</th>\n",
       "      <td>HKG</td>\n",
       "      <td>Hong Kong</td>\n",
       "      <td>7206000</td>\n",
       "      <td>22.304981</td>\n",
       "      <td>114.185009</td>\n",
       "      <td>POINT (114.18501 22.30498)</td>\n",
       "    </tr>\n",
       "  </tbody>\n",
       "</table>\n",
       "<p>243 rows × 6 columns</p>\n",
       "</div>"
      ],
      "text/plain": [
       "    iso_a3            name  population   latitude   longitude  \\\n",
       "0      VAT    Vatican City         832  41.900012   12.447808   \n",
       "1      SMR      San Marino       29579  43.917150   12.466670   \n",
       "2      LIE           Vaduz       36281  47.133724    9.516669   \n",
       "3      SWZ         Lobamba        9782 -26.466667   31.199997   \n",
       "4      LUX      Luxembourg      107260  49.611660    6.130003   \n",
       "..     ...             ...         ...        ...         ...   \n",
       "238    BRA  Rio de Janeiro    11748000 -22.925023  -43.225021   \n",
       "239    BRA       São Paulo    18845000 -23.558680  -46.625020   \n",
       "240    AUS          Sydney     4630000 -33.920011  151.185180   \n",
       "241    SGP       Singapore     5183700   1.293033  103.855821   \n",
       "242    HKG       Hong Kong     7206000  22.304981  114.185009   \n",
       "\n",
       "                        geometry  \n",
       "0      POINT (12.44781 41.90001)  \n",
       "1      POINT (12.46667 43.91715)  \n",
       "2       POINT (9.51667 47.13372)  \n",
       "3         POINT (31.2 -26.46667)  \n",
       "4          POINT (6.13 49.61166)  \n",
       "..                           ...  \n",
       "238  POINT (-43.22502 -22.92502)  \n",
       "239  POINT (-46.62502 -23.55868)  \n",
       "240  POINT (151.18518 -33.92001)  \n",
       "241    POINT (103.85582 1.29303)  \n",
       "242   POINT (114.18501 22.30498)  \n",
       "\n",
       "[243 rows x 6 columns]"
      ]
     },
     "execution_count": 81,
     "metadata": {},
     "output_type": "execute_result"
    }
   ],
   "source": [
    "cities_geo"
   ]
  },
  {
   "cell_type": "markdown",
   "metadata": {},
   "source": [
    "Now, we have a single column with the location information (the \"geometry\" column). This is the topic of the next notebook."
   ]
  }
 ],
 "metadata": {
  "celltoolbar": "Nbtutor - export exercises",
  "jupytext": {
   "cell_metadata_filter": "-run_control,-deletable,-editable,-jupyter,-slideshow",
   "formats": "ipynb,md:myst",
   "notebook_metadata_filter": "-jupytext.cell_metadata_filter,-jupytext.notebook_metadata_filter"
  },
  "kernelspec": {
   "display_name": "Python 3 (ipykernel)",
   "language": "python",
   "name": "python3"
  },
  "language_info": {
   "codemirror_mode": {
    "name": "ipython",
    "version": 3
   },
   "file_extension": ".py",
   "mimetype": "text/x-python",
   "name": "python",
   "nbconvert_exporter": "python",
   "pygments_lexer": "ipython3",
   "version": "3.12.8"
  },
  "widgets": {
   "application/vnd.jupyter.widget-state+json": {
    "state": {},
    "version_major": 2,
    "version_minor": 0
   }
  }
 },
 "nbformat": 4,
 "nbformat_minor": 4
}
